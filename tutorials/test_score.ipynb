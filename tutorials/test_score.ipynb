{
 "cells": [
  {
   "cell_type": "code",
   "execution_count": 1,
   "metadata": {},
   "outputs": [
    {
     "ename": "ModuleNotFoundError",
     "evalue": "No module named 'pyfftw'",
     "output_type": "error",
     "traceback": [
      "\u001b[0;31m---------------------------------------------------------------------------\u001b[0m",
      "\u001b[0;31mModuleNotFoundError\u001b[0m                       Traceback (most recent call last)",
      "Cell \u001b[0;32mIn [1], line 6\u001b[0m\n\u001b[1;32m      4\u001b[0m sys\u001b[39m.\u001b[39mpath\u001b[39m.\u001b[39mappend(\u001b[39m'\u001b[39m\u001b[39m../score-master/\u001b[39m\u001b[39m'\u001b[39m)\n\u001b[1;32m      5\u001b[0m sys\u001b[39m.\u001b[39mpath\u001b[39m.\u001b[39mappend(\u001b[39m'\u001b[39m\u001b[39m../alpha-transform-master/\u001b[39m\u001b[39m'\u001b[39m)\n\u001b[0;32m----> 6\u001b[0m \u001b[39mfrom\u001b[39;00m \u001b[39mscore\u001b[39;00m \u001b[39mimport\u001b[39;00m score\n\u001b[1;32m      7\u001b[0m \u001b[39mimport\u001b[39;00m \u001b[39mnumpy\u001b[39;00m \u001b[39mas\u001b[39;00m \u001b[39mnp\u001b[39;00m\n\u001b[1;32m      8\u001b[0m \u001b[39mimport\u001b[39;00m \u001b[39mtorch\u001b[39;00m\n",
      "File \u001b[0;32m~/Desktop/Galaxy-Deconv/tutorials/../score-master/score.py:11\u001b[0m\n\u001b[1;32m      9\u001b[0m \u001b[39m#libraries\u001b[39;00m\n\u001b[1;32m     10\u001b[0m \u001b[39mimport\u001b[39;00m \u001b[39mnumpy\u001b[39;00m \u001b[39mas\u001b[39;00m \u001b[39mnp\u001b[39;00m\n\u001b[0;32m---> 11\u001b[0m \u001b[39mimport\u001b[39;00m \u001b[39mcadmos_lib\u001b[39;00m \u001b[39mas\u001b[39;00m \u001b[39mcl\u001b[39;00m\n\u001b[1;32m     12\u001b[0m \u001b[39mimport\u001b[39;00m \u001b[39mstarlets\u001b[39;00m\n\u001b[1;32m     14\u001b[0m \u001b[39mdef\u001b[39;00m \u001b[39mis_number\u001b[39m(s):\n",
      "File \u001b[0;32m~/Desktop/Galaxy-Deconv/tutorials/../score-master/cadmos_lib.py:13\u001b[0m\n\u001b[1;32m     11\u001b[0m \u001b[39mfrom\u001b[39;00m \u001b[39mscipy\u001b[39;00m\u001b[39m.\u001b[39;00m\u001b[39msignal\u001b[39;00m \u001b[39mimport\u001b[39;00m convolve\n\u001b[1;32m     12\u001b[0m \u001b[39mfrom\u001b[39;00m \u001b[39mskimage\u001b[39;00m\u001b[39m.\u001b[39;00m\u001b[39mmeasure\u001b[39;00m \u001b[39mimport\u001b[39;00m label\n\u001b[0;32m---> 13\u001b[0m \u001b[39mfrom\u001b[39;00m \u001b[39mAlphaTransform\u001b[39;00m \u001b[39mimport\u001b[39;00m AlphaShearletTransform \u001b[39mas\u001b[39;00m AST\n\u001b[1;32m     15\u001b[0m \u001b[39mdef\u001b[39;00m \u001b[39mrotate180\u001b[39m(img):\n\u001b[1;32m     16\u001b[0m     \u001b[39m\"\"\"This function rotates an image by 180 degrees.\u001b[39;00m\n\u001b[1;32m     17\u001b[0m \u001b[39m    INPUT: img 2D numpy array (image)\u001b[39;00m\n\u001b[1;32m     18\u001b[0m \u001b[39m    OUTPUT: n x m numpy array \"\"\"\u001b[39;00m\n",
      "File \u001b[0;32m~/Desktop/Galaxy-Deconv/tutorials/../alpha-transform-master/AlphaTransform.py:56\u001b[0m\n\u001b[1;32m     54\u001b[0m \u001b[39mimport\u001b[39;00m \u001b[39mnumpy\u001b[39;00m \u001b[39mas\u001b[39;00m \u001b[39mnp\u001b[39;00m\n\u001b[1;32m     55\u001b[0m \u001b[39mimport\u001b[39;00m \u001b[39mnumexpr\u001b[39;00m \u001b[39mas\u001b[39;00m \u001b[39mne\u001b[39;00m\n\u001b[0;32m---> 56\u001b[0m \u001b[39mimport\u001b[39;00m \u001b[39mpyfftw\u001b[39;00m\n\u001b[1;32m     57\u001b[0m \u001b[39m# import numpy.fft as fft\u001b[39;00m\n\u001b[1;32m     58\u001b[0m \u001b[39m# from numpy.fft import fft2, ifft2, fftshift, ifftshift\u001b[39;00m\n\u001b[1;32m     59\u001b[0m \u001b[39m# from numpy.fft import ifftshift\u001b[39;00m\n\u001b[1;32m     60\u001b[0m \n\u001b[1;32m     61\u001b[0m \u001b[39m# import MotherShearletsTheano # this must be before 'import MotherShearlets'\u001b[39;00m\n\u001b[1;32m     62\u001b[0m \u001b[39mimport\u001b[39;00m \u001b[39mMotherShearlets\u001b[39;00m \u001b[39mas\u001b[39;00m \u001b[39mMS\u001b[39;00m\n",
      "\u001b[0;31mModuleNotFoundError\u001b[0m: No module named 'pyfftw'"
     ]
    }
   ],
   "source": [
    "import os\n",
    "import sys\n",
    "sys.path.append('../')\n",
    "sys.path.append('../score-master/')\n",
    "sys.path.append('../alpha-transform-master/')\n",
    "from score import score\n",
    "import numpy as np\n",
    "import torch\n",
    "import matplotlib.pyplot as plt"
   ]
  },
  {
   "cell_type": "code",
   "execution_count": null,
   "metadata": {},
   "outputs": [
    {
     "ename": "NameError",
     "evalue": "name 'torch' is not defined",
     "output_type": "error",
     "traceback": [
      "\u001b[0;31m---------------------------------------------------------------------------\u001b[0m",
      "\u001b[0;31mNameError\u001b[0m                                 Traceback (most recent call last)",
      "Cell \u001b[0;32mIn [14], line 2\u001b[0m\n\u001b[1;32m      1\u001b[0m \u001b[39m# %% load data\u001b[39;00m\n\u001b[0;32m----> 2\u001b[0m psf_im \u001b[39m=\u001b[39m torch\u001b[39m.\u001b[39mload(\u001b[39m\"\u001b[39m\u001b[39mpsf_23.5_0.pth\u001b[39m\u001b[39m\"\u001b[39m)\u001b[39m.\u001b[39mnumpy()\n\u001b[1;32m      3\u001b[0m obs_im \u001b[39m=\u001b[39m torch\u001b[39m.\u001b[39mload(\u001b[39m\"\u001b[39m\u001b[39mobs_23.5_0.pth\u001b[39m\u001b[39m\"\u001b[39m)\u001b[39m.\u001b[39mnumpy()\n\u001b[1;32m      4\u001b[0m gt_im \u001b[39m=\u001b[39m torch\u001b[39m.\u001b[39mload(\u001b[39m\"\u001b[39m\u001b[39mgt_23.5_0.pth\u001b[39m\u001b[39m\"\u001b[39m)\u001b[39m.\u001b[39mnumpy()\n",
      "\u001b[0;31mNameError\u001b[0m: name 'torch' is not defined"
     ]
    }
   ],
   "source": [
    "# %% load data\n",
    "psf_im = torch.load(\"psf_23.5_0.pth\").numpy()\n",
    "obs_im = torch.load(\"obs_23.5_0.pth\").numpy()\n",
    "gt_im = torch.load(\"gt_23.5_0.pth\").numpy()"
   ]
  },
  {
   "cell_type": "code",
   "execution_count": null,
   "metadata": {},
   "outputs": [
    {
     "ename": "AttributeError",
     "evalue": "module 'score' has no attribute 'score'",
     "output_type": "error",
     "traceback": [
      "\u001b[0;31m---------------------------------------------------------------------------\u001b[0m",
      "\u001b[0;31mAttributeError\u001b[0m                            Traceback (most recent call last)",
      "Cell \u001b[0;32mIn [5], line 1\u001b[0m\n\u001b[0;32m----> 1\u001b[0m g1 \u001b[39m=\u001b[39m score\u001b[39m.\u001b[39;49mscore(gamma\u001b[39m=\u001b[39m\u001b[39m1\u001b[39m,verbose\u001b[39m=\u001b[39m\u001b[39mFalse\u001b[39;00m)\n\u001b[1;32m      2\u001b[0m g0 \u001b[39m=\u001b[39m score(gamma\u001b[39m=\u001b[39m\u001b[39m0\u001b[39m,verbose\u001b[39m=\u001b[39m\u001b[39mFalse\u001b[39;00m,rip\u001b[39m=\u001b[39m\u001b[39mFalse\u001b[39;00m)\n",
      "\u001b[0;31mAttributeError\u001b[0m: module 'score' has no attribute 'score'"
     ]
    }
   ],
   "source": [
    "# %% perform deconvolution of the chosen galaxy image for gamma = 0 and 1\n",
    "#initiate two instances of score\n",
    "#set the value of gamma\n",
    "g1 = score(gamma=1,verbose=False)\n",
    "g0 = score(gamma=0,verbose=False,rip=False)\n",
    "#initiate lists of ellipticity relative errors\n",
    "g1_error_list = list()\n",
    "g0_error_list = list()"
   ]
  },
  {
   "cell_type": "code",
   "execution_count": null,
   "metadata": {},
   "outputs": [],
   "source": [
    "#loop\n",
    "for obs, psf, gt in zip(gals_obs,psfs,gals):\n",
    "    #deconvolve\n",
    "    g1.deconvolve(obs=obs,ground_truth=gt,psf=psf)\n",
    "    g0.deconvolve(obs=obs,ground_truth=gt,psf=psf)\n",
    "    #update ellipticity error lists\n",
    "    g1_error_list += [g1.relative_ell_error]\n",
    "    g0_error_list += [g0.relative_ell_error]"
   ]
  }
 ],
 "metadata": {
  "kernelspec": {
   "display_name": "astro",
   "language": "python",
   "name": "python3"
  },
  "language_info": {
   "codemirror_mode": {
    "name": "ipython",
    "version": 3
   },
   "file_extension": ".py",
   "mimetype": "text/x-python",
   "name": "python",
   "nbconvert_exporter": "python",
   "pygments_lexer": "ipython3",
   "version": "3.10.6"
  },
  "orig_nbformat": 4,
  "vscode": {
   "interpreter": {
    "hash": "d0b802fb624dc315c61dbc46f938e1a108e2fa9619ffc7341ed430915791398d"
   }
  }
 },
 "nbformat": 4,
 "nbformat_minor": 2
}
