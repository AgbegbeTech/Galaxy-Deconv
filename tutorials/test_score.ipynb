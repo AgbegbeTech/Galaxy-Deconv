{
 "cells": [
  {
   "cell_type": "code",
   "execution_count": 5,
   "metadata": {},
   "outputs": [],
   "source": [
    "import os\n",
    "import sys\n",
    "sys.path.append('../')\n",
    "sys.path.append('../score/')\n",
    "sys.path.append('../alpha-transform/')\n",
    "from score import score\n",
    "import numpy as np\n",
    "import torch\n",
    "import matplotlib.pyplot as plt"
   ]
  },
  {
   "cell_type": "code",
   "execution_count": 6,
   "metadata": {},
   "outputs": [],
   "source": [
    "# %% load data\n",
    "psf_im = torch.load(\"psf_23.5_0.pth\").numpy()\n",
    "obs_im = torch.load(\"obs_23.5_0.pth\").numpy()\n",
    "gt_im = torch.load(\"gt_23.5_0.pth\").numpy()"
   ]
  },
  {
   "cell_type": "code",
   "execution_count": 7,
   "metadata": {},
   "outputs": [],
   "source": [
    "# %% perform deconvolution of the chosen galaxy image for gamma = 0 and 1\n",
    "#initiate two instances of score\n",
    "#set the value of gamma\n",
    "g1 = score(gamma=1,verbose=False)\n",
    "g0 = score(gamma=0,verbose=False,rip=False)\n",
    "#initiate lists of ellipticity relative errors\n",
    "g1_error_list = list()\n",
    "g0_error_list = list()"
   ]
  },
  {
   "cell_type": "code",
   "execution_count": 9,
   "metadata": {},
   "outputs": [
    {
     "ename": "AssertionError",
     "evalue": "The given number of scales is too large for the given dimensions!",
     "output_type": "error",
     "traceback": [
      "\u001b[0;31m---------------------------------------------------------------------------\u001b[0m",
      "\u001b[0;31mAssertionError\u001b[0m                            Traceback (most recent call last)",
      "Cell \u001b[0;32mIn[9], line 4\u001b[0m\n\u001b[1;32m      1\u001b[0m \u001b[39m#loop\u001b[39;00m\n\u001b[1;32m      2\u001b[0m \u001b[39m# for obs, psf, gt in zip(gals_obs,psfs,gals):\u001b[39;00m\n\u001b[1;32m      3\u001b[0m \u001b[39m#deconvolve\u001b[39;00m\n\u001b[0;32m----> 4\u001b[0m g1\u001b[39m.\u001b[39;49mdeconvolve(obs\u001b[39m=\u001b[39;49mobs_im,ground_truth\u001b[39m=\u001b[39;49mgt_im,psf\u001b[39m=\u001b[39;49mpsf_im)\n\u001b[1;32m      5\u001b[0m g0\u001b[39m.\u001b[39mdeconvolve(obs\u001b[39m=\u001b[39mobs_im,ground_truth\u001b[39m=\u001b[39mgt_im,psf\u001b[39m=\u001b[39mpsf_im)\n\u001b[1;32m      6\u001b[0m \u001b[39m#update ellipticity error lists\u001b[39;00m\n",
      "File \u001b[0;32m~/Galaxy-Deconv/score/score.py:735\u001b[0m, in \u001b[0;36mscore.deconvolve\u001b[0;34m(self, **kwargs)\u001b[0m\n\u001b[1;32m    730\u001b[0m \u001b[39m\"\"\"This method performs deconvolution.\u001b[39;00m\n\u001b[1;32m    731\u001b[0m \u001b[39m-----------------------------------------------------------------------\u001b[39;00m\n\u001b[1;32m    732\u001b[0m \u001b[39mPARAMETERS:\u001b[39;00m\n\u001b[1;32m    733\u001b[0m \u001b[39m   For more details on the input parameters see 'set_param'.\"\"\"\u001b[39;00m\n\u001b[1;32m    734\u001b[0m \u001b[39mself\u001b[39m\u001b[39m.\u001b[39m_bool_dec \u001b[39m=\u001b[39m \u001b[39mTrue\u001b[39;00m\n\u001b[0;32m--> 735\u001b[0m \u001b[39mself\u001b[39;49m\u001b[39m.\u001b[39;49m_restore(\u001b[39m*\u001b[39;49m\u001b[39m*\u001b[39;49mkwargs)\n",
      "File \u001b[0;32m~/Galaxy-Deconv/score/score.py:707\u001b[0m, in \u001b[0;36mscore._restore\u001b[0;34m(self, **kwargs)\u001b[0m\n\u001b[1;32m    705\u001b[0m \u001b[39m#the remaining parameters are given defaults values\u001b[39;00m\n\u001b[1;32m    706\u001b[0m \u001b[39mself\u001b[39m\u001b[39m.\u001b[39mset_defaults(\u001b[39m*\u001b[39m\u001b[39m*\u001b[39mkwargs)\n\u001b[0;32m--> 707\u001b[0m \u001b[39mself\u001b[39;49m\u001b[39m.\u001b[39;49minit_input(\u001b[39m*\u001b[39;49m\u001b[39m*\u001b[39;49mkwargs)\n\u001b[1;32m    708\u001b[0m \u001b[39mif\u001b[39;00m \u001b[39mself\u001b[39m\u001b[39m.\u001b[39mverbose:\n\u001b[1;32m    709\u001b[0m     \u001b[39mprint\u001b[39m(\u001b[39m\"\u001b[39m\u001b[39mRunning restoration...\u001b[39m\u001b[39m\"\u001b[39m)\n",
      "File \u001b[0;32m~/Galaxy-Deconv/score/score.py:648\u001b[0m, in \u001b[0;36mscore.init_input\u001b[0;34m(self, **kwargs)\u001b[0m\n\u001b[1;32m    645\u001b[0m \u001b[39mself\u001b[39m\u001b[39m.\u001b[39mn_row, \u001b[39mself\u001b[39m\u001b[39m.\u001b[39mn_col \u001b[39m=\u001b[39m \u001b[39mself\u001b[39m\u001b[39m.\u001b[39mobs\u001b[39m.\u001b[39mshape\n\u001b[1;32m    647\u001b[0m \u001b[39mif\u001b[39;00m \u001b[39mnot\u001b[39;00m \u001b[39mself\u001b[39m\u001b[39m.\u001b[39m_bool_init:\n\u001b[0;32m--> 648\u001b[0m     \u001b[39mself\u001b[39;49m\u001b[39m.\u001b[39;49minit_const()\n\u001b[1;32m    649\u001b[0m     \u001b[39mself\u001b[39m\u001b[39m.\u001b[39m_bool_init \u001b[39m=\u001b[39m \u001b[39mTrue\u001b[39;00m\n\u001b[1;32m    651\u001b[0m \u001b[39mif\u001b[39;00m \u001b[39mself\u001b[39m\u001b[39m.\u001b[39m_bool_dec:\n",
      "File \u001b[0;32m~/Galaxy-Deconv/score/score.py:494\u001b[0m, in \u001b[0;36mscore.init_const\u001b[0;34m(self)\u001b[0m\n\u001b[1;32m    489\u001b[0m \u001b[39m\"\"\"This method initialises the constants and operators that are \u001b[39;00m\n\u001b[1;32m    490\u001b[0m \u001b[39mcommon for both denoising and deconvolution cases.\u001b[39;00m\n\u001b[1;32m    491\u001b[0m \u001b[39mINPUT: None\u001b[39;00m\n\u001b[1;32m    492\u001b[0m \u001b[39mOUTPUT: None\"\"\"\u001b[39;00m\n\u001b[1;32m    493\u001b[0m \u001b[39mself\u001b[39m\u001b[39m.\u001b[39mU \u001b[39m=\u001b[39m cl\u001b[39m.\u001b[39mmakeUi(\u001b[39mself\u001b[39m\u001b[39m.\u001b[39mn_row,\u001b[39mself\u001b[39m\u001b[39m.\u001b[39mn_col)\n\u001b[0;32m--> 494\u001b[0m \u001b[39mself\u001b[39m\u001b[39m.\u001b[39mshearlets,\u001b[39mself\u001b[39m\u001b[39m.\u001b[39mshearlets_adj \u001b[39m=\u001b[39m cl\u001b[39m.\u001b[39;49mget_shearlets(\u001b[39mself\u001b[39;49m\u001b[39m.\u001b[39;49mn_row\n\u001b[1;32m    495\u001b[0m                                                      ,\u001b[39mself\u001b[39;49m\u001b[39m.\u001b[39;49mn_col\n\u001b[1;32m    496\u001b[0m                                                      ,\u001b[39mself\u001b[39;49m\u001b[39m.\u001b[39;49mn_shearlet)\n\u001b[1;32m    497\u001b[0m \u001b[39m#Adjoint shealret transform of U, i.e Psi^{Star}(U)\u001b[39;00m\n\u001b[1;32m    498\u001b[0m \u001b[39mself\u001b[39m\u001b[39m.\u001b[39mpsu \u001b[39m=\u001b[39m np\u001b[39m.\u001b[39marray([cl\u001b[39m.\u001b[39mconvolve_stack(ui,\u001b[39mself\u001b[39m\u001b[39m.\u001b[39mshearlets_adj) \u001b[39mfor\u001b[39;00m ui \u001b[39min\u001b[39;00m\n\u001b[1;32m    499\u001b[0m                      \u001b[39mself\u001b[39m\u001b[39m.\u001b[39mU])\n",
      "File \u001b[0;32m~/Galaxy-Deconv/score/cadmos_lib.py:122\u001b[0m, in \u001b[0;36mget_shearlets\u001b[0;34m(n_row, n_column, n_scale)\u001b[0m\n\u001b[1;32m    114\u001b[0m \u001b[39m\"\"\"This function returns the normalized coefficients of the shearlets and \u001b[39;00m\n\u001b[1;32m    115\u001b[0m \u001b[39mtheir adjoints.\u001b[39;00m\n\u001b[1;32m    116\u001b[0m \u001b[39mINPUT: n_row, positive integer\u001b[39;00m\n\u001b[0;32m   (...)\u001b[0m\n\u001b[1;32m    119\u001b[0m \u001b[39mOUTPUT: shearlets, 3D numpy array\u001b[39;00m\n\u001b[1;32m    120\u001b[0m \u001b[39m        adjoints, 3D numpy array\"\"\"\u001b[39;00m\n\u001b[1;32m    121\u001b[0m \u001b[39m#Get shearlet filters\u001b[39;00m\n\u001b[0;32m--> 122\u001b[0m trafo \u001b[39m=\u001b[39m AST(n_column, n_row, [\u001b[39m0.5\u001b[39;49m]\u001b[39m*\u001b[39;49mn_scale,real\u001b[39m=\u001b[39;49m\u001b[39mTrue\u001b[39;49;00m,parseval\u001b[39m=\u001b[39;49m\u001b[39mTrue\u001b[39;49;00m\n\u001b[1;32m    123\u001b[0m             ,verbose\u001b[39m=\u001b[39;49m\u001b[39mFalse\u001b[39;49;00m)\n\u001b[1;32m    124\u001b[0m shearlets \u001b[39m=\u001b[39m trafo\u001b[39m.\u001b[39mshearlets\n\u001b[1;32m    125\u001b[0m adjoints \u001b[39m=\u001b[39m get_adjoint_coeff(trafo)\n",
      "File \u001b[0;32m~/Galaxy-Deconv/alpha-transform/AlphaTransform.py:301\u001b[0m, in \u001b[0;36mAlphaShearletTransform.__init__\u001b[0;34m(self, width, height, alphas, real, subsampled, generator, parseval, periodization, use_fftw, mother_shearlet, verbose)\u001b[0m\n\u001b[1;32m    298\u001b[0m     \u001b[39mself\u001b[39m\u001b[39m.\u001b[39m_wrapped_to_index \u001b[39m=\u001b[39m []\n\u001b[1;32m    300\u001b[0m \u001b[39m# calculate the spectrograms of the filters\u001b[39;00m\n\u001b[0;32m--> 301\u001b[0m \u001b[39mself\u001b[39;49m\u001b[39m.\u001b[39;49m_rescale_filters()\n\u001b[1;32m    302\u001b[0m \u001b[39mif\u001b[39;00m subsampled:\n\u001b[1;32m    303\u001b[0m     \u001b[39mself\u001b[39m\u001b[39m.\u001b[39m_calculate_subsampled_spectrograms(verbose\u001b[39m=\u001b[39mverbose)\n",
      "File \u001b[0;32m~/Galaxy-Deconv/alpha-transform/AlphaTransform.py:1122\u001b[0m, in \u001b[0;36mAlphaShearletTransform._rescale_filters\u001b[0;34m(self)\u001b[0m\n\u001b[1;32m   1120\u001b[0m \u001b[39m# this is the size of the (quadratic(!)) low pass region\u001b[39;00m\n\u001b[1;32m   1121\u001b[0m a \u001b[39m=\u001b[39m max_scale \u001b[39m*\u001b[39m scale_fun_lower_bound \u001b[39m/\u001b[39m scale_fun_upper_bound \u001b[39m*\u001b[39m R\n\u001b[0;32m-> 1122\u001b[0m \u001b[39massert\u001b[39;00m a \u001b[39m>\u001b[39m\u001b[39m=\u001b[39m \u001b[39m4\u001b[39m, (\u001b[39m\"\u001b[39m\u001b[39mThe given number of scales is too large \u001b[39m\u001b[39m\"\u001b[39m\n\u001b[1;32m   1123\u001b[0m                 \u001b[39m\"\u001b[39m\u001b[39mfor the given dimensions!\u001b[39m\u001b[39m\"\u001b[39m)\n\u001b[1;32m   1125\u001b[0m scale_nominator \u001b[39m=\u001b[39m ((scale_fun_upper_bound \u001b[39m-\u001b[39m scale_fun_lower_bound) \u001b[39m/\u001b[39m\n\u001b[1;32m   1126\u001b[0m                    max_scale)\n\u001b[1;32m   1127\u001b[0m hor_scale \u001b[39m=\u001b[39m scale_nominator \u001b[39m/\u001b[39m (n_max \u001b[39m-\u001b[39m a \u001b[39m/\u001b[39m max_scale)\n",
      "\u001b[0;31mAssertionError\u001b[0m: The given number of scales is too large for the given dimensions!"
     ]
    }
   ],
   "source": [
    "#loop\n",
    "# for obs, psf, gt in zip(gals_obs,psfs,gals):\n",
    "#deconvolve\n",
    "g1.deconvolve(obs=obs_im,ground_truth=gt_im,psf=psf_im)\n",
    "g0.deconvolve(obs=obs_im,ground_truth=gt_im,psf=psf_im)\n",
    "#update ellipticity error lists\n",
    "g1_error_list += [g1.relative_ell_error]\n",
    "g0_error_list += [g0.relative_ell_error]"
   ]
  }
 ],
 "metadata": {
  "kernelspec": {
   "display_name": "astro",
   "language": "python",
   "name": "python3"
  },
  "language_info": {
   "codemirror_mode": {
    "name": "ipython",
    "version": 3
   },
   "file_extension": ".py",
   "mimetype": "text/x-python",
   "name": "python",
   "nbconvert_exporter": "python",
   "pygments_lexer": "ipython3",
   "version": "3.8.15"
  },
  "orig_nbformat": 4,
  "vscode": {
   "interpreter": {
    "hash": "baefa36f9901adaf325a313b208b493aec3ce2f722d74c8793620106c5e8f66e"
   }
  }
 },
 "nbformat": 4,
 "nbformat_minor": 2
}
