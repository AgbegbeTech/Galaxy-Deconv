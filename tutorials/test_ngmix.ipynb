{
 "cells": [
  {
   "cell_type": "code",
   "execution_count": 1,
   "metadata": {},
   "outputs": [
    {
     "name": "stderr",
     "output_type": "stream",
     "text": [
      "/home/tianaoli/.conda/envs/astro/lib/python3.8/site-packages/tqdm/auto.py:22: TqdmWarning: IProgress not found. Please update jupyter and ipywidgets. See https://ipywidgets.readthedocs.io/en/stable/user_install.html\n",
      "  from .autonotebook import tqdm as notebook_tqdm\n"
     ]
    }
   ],
   "source": [
    "import os\n",
    "import sys\n",
    "sys.path.append('../')\n",
    "import numpy as np\n",
    "import matplotlib.pyplot as plt\n",
    "import torch\n",
    "import galsim\n",
    "import ngmix\n",
    "from utils.utils import estimate_shear\n",
    "from utils.utils_ngmix import get_prior\n",
    "\n",
    "%matplotlib inline"
   ]
  },
  {
   "cell_type": "code",
   "execution_count": 2,
   "metadata": {},
   "outputs": [
    {
     "ename": "KeyError",
     "evalue": "0",
     "output_type": "error",
     "traceback": [
      "\u001b[0;31m---------------------------------------------------------------------------\u001b[0m",
      "\u001b[0;31mKeyError\u001b[0m                                  Traceback (most recent call last)",
      "Cell \u001b[0;32mIn[2], line 85\u001b[0m\n\u001b[1;32m     79\u001b[0m \u001b[39m# this bootstraps the process, first fitting psfs then the object\u001b[39;00m\n\u001b[1;32m     80\u001b[0m boot \u001b[39m=\u001b[39m ngmix\u001b[39m.\u001b[39mbootstrap\u001b[39m.\u001b[39mBootstrapper(\n\u001b[1;32m     81\u001b[0m     runner\u001b[39m=\u001b[39mrunner,\n\u001b[1;32m     82\u001b[0m     psf_runner\u001b[39m=\u001b[39mpsf_runner,\n\u001b[1;32m     83\u001b[0m )\n\u001b[0;32m---> 85\u001b[0m res \u001b[39m=\u001b[39m boot\u001b[39m.\u001b[39;49mgo(obs)\n\u001b[1;32m     86\u001b[0m rec_im \u001b[39m=\u001b[39m res\u001b[39m.\u001b[39mmake_image()\n",
      "File \u001b[0;32m~/.conda/envs/astro/lib/python3.8/site-packages/ngmix/bootstrap.py:52\u001b[0m, in \u001b[0;36mBootstrapper.go\u001b[0;34m(self, obs)\u001b[0m\n\u001b[1;32m     43\u001b[0m \u001b[39mdef\u001b[39;00m \u001b[39mgo\u001b[39m(\u001b[39mself\u001b[39m, obs):\n\u001b[1;32m     44\u001b[0m     \u001b[39m\"\"\"\u001b[39;00m\n\u001b[1;32m     45\u001b[0m \u001b[39m    Run the runners on the input observation(s)\u001b[39;00m\n\u001b[1;32m     46\u001b[0m \n\u001b[0;32m   (...)\u001b[0m\n\u001b[1;32m     50\u001b[0m \u001b[39m        Observation, ObsList, or MultiBandObsList\u001b[39;00m\n\u001b[1;32m     51\u001b[0m \u001b[39m    \"\"\"\u001b[39;00m\n\u001b[0;32m---> 52\u001b[0m     \u001b[39mreturn\u001b[39;00m bootstrap(\n\u001b[1;32m     53\u001b[0m         obs\u001b[39m=\u001b[39;49mobs,\n\u001b[1;32m     54\u001b[0m         runner\u001b[39m=\u001b[39;49m\u001b[39mself\u001b[39;49m\u001b[39m.\u001b[39;49mrunner,\n\u001b[1;32m     55\u001b[0m         psf_runner\u001b[39m=\u001b[39;49m\u001b[39mself\u001b[39;49m\u001b[39m.\u001b[39;49mpsf_runner,\n\u001b[1;32m     56\u001b[0m         ignore_failed_psf\u001b[39m=\u001b[39;49m\u001b[39mself\u001b[39;49m\u001b[39m.\u001b[39;49mignore_failed_psf,\n\u001b[1;32m     57\u001b[0m     )\n",
      "File \u001b[0;32m~/.conda/envs/astro/lib/python3.8/site-packages/ngmix/bootstrap.py:102\u001b[0m, in \u001b[0;36mbootstrap\u001b[0;34m(obs, runner, psf_runner, ignore_failed_psf)\u001b[0m\n\u001b[1;32m     99\u001b[0m     \u001b[39mif\u001b[39;00m ignore_failed_psf:\n\u001b[1;32m    100\u001b[0m         obs \u001b[39m=\u001b[39m remove_failed_psf_obs(obs\u001b[39m=\u001b[39mobs)\n\u001b[0;32m--> 102\u001b[0m \u001b[39mreturn\u001b[39;00m runner\u001b[39m.\u001b[39;49mgo(obs\u001b[39m=\u001b[39;49mobs)\n",
      "File \u001b[0;32m~/.conda/envs/astro/lib/python3.8/site-packages/ngmix/runners.py:57\u001b[0m, in \u001b[0;36mRunner.go\u001b[0;34m(self, obs)\u001b[0m\n\u001b[1;32m     42\u001b[0m \u001b[39mdef\u001b[39;00m \u001b[39mgo\u001b[39m(\u001b[39mself\u001b[39m, obs):\n\u001b[1;32m     43\u001b[0m     \u001b[39m\"\"\"\u001b[39;00m\n\u001b[1;32m     44\u001b[0m \u001b[39m    Run the fitter on the input observation(s), possibly multiple times\u001b[39;00m\n\u001b[1;32m     45\u001b[0m \u001b[39m    using guesses generated from the guesser\u001b[39;00m\n\u001b[0;32m   (...)\u001b[0m\n\u001b[1;32m     54\u001b[0m \u001b[39m    result dictionary\u001b[39;00m\n\u001b[1;32m     55\u001b[0m \u001b[39m    \"\"\"\u001b[39;00m\n\u001b[0;32m---> 57\u001b[0m     \u001b[39mreturn\u001b[39;00m run_fitter(\n\u001b[1;32m     58\u001b[0m         obs\u001b[39m=\u001b[39;49mobs, fitter\u001b[39m=\u001b[39;49m\u001b[39mself\u001b[39;49m\u001b[39m.\u001b[39;49mfitter, guesser\u001b[39m=\u001b[39;49m\u001b[39mself\u001b[39;49m\u001b[39m.\u001b[39;49mguesser, ntry\u001b[39m=\u001b[39;49m\u001b[39mself\u001b[39;49m\u001b[39m.\u001b[39;49mntry,\n\u001b[1;32m     59\u001b[0m     )\n",
      "File \u001b[0;32m~/.conda/envs/astro/lib/python3.8/site-packages/ngmix/runners.py:142\u001b[0m, in \u001b[0;36mrun_fitter\u001b[0;34m(obs, fitter, guesser, ntry)\u001b[0m\n\u001b[1;32m    140\u001b[0m \u001b[39mif\u001b[39;00m guesser \u001b[39mis\u001b[39;00m \u001b[39mnot\u001b[39;00m \u001b[39mNone\u001b[39;00m:\n\u001b[1;32m    141\u001b[0m     guess \u001b[39m=\u001b[39m guesser(obs\u001b[39m=\u001b[39mobs)\n\u001b[0;32m--> 142\u001b[0m     res \u001b[39m=\u001b[39m fitter\u001b[39m.\u001b[39;49mgo(obs\u001b[39m=\u001b[39;49mobs, guess\u001b[39m=\u001b[39;49mguess)\n\u001b[1;32m    143\u001b[0m \u001b[39melse\u001b[39;00m:\n\u001b[1;32m    144\u001b[0m     res \u001b[39m=\u001b[39m fitter\u001b[39m.\u001b[39mgo(obs\u001b[39m=\u001b[39mobs)\n",
      "File \u001b[0;32m~/.conda/envs/astro/lib/python3.8/site-packages/ngmix/fitting/fitters.py:58\u001b[0m, in \u001b[0;36mFitter.go\u001b[0;34m(self, obs, guess)\u001b[0m\n\u001b[1;32m     40\u001b[0m \u001b[39mdef\u001b[39;00m \u001b[39mgo\u001b[39m(\u001b[39mself\u001b[39m, obs, guess):\n\u001b[1;32m     41\u001b[0m     \u001b[39m\"\"\"\u001b[39;00m\n\u001b[1;32m     42\u001b[0m \u001b[39m    Run leastsq and set the result\u001b[39;00m\n\u001b[1;32m     43\u001b[0m \n\u001b[0;32m   (...)\u001b[0m\n\u001b[1;32m     55\u001b[0m \n\u001b[1;32m     56\u001b[0m \u001b[39m    \"\"\"\u001b[39;00m\n\u001b[0;32m---> 58\u001b[0m     fit_model \u001b[39m=\u001b[39m \u001b[39mself\u001b[39;49m\u001b[39m.\u001b[39;49m_make_fit_model(obs\u001b[39m=\u001b[39;49mobs, guess\u001b[39m=\u001b[39;49mguess)\n\u001b[1;32m     60\u001b[0m     result \u001b[39m=\u001b[39m run_leastsq(\n\u001b[1;32m     61\u001b[0m         fit_model\u001b[39m.\u001b[39mcalc_fdiff,\n\u001b[1;32m     62\u001b[0m         guess\u001b[39m=\u001b[39mguess,\n\u001b[0;32m   (...)\u001b[0m\n\u001b[1;32m     65\u001b[0m         \u001b[39m*\u001b[39m\u001b[39m*\u001b[39m\u001b[39mself\u001b[39m\u001b[39m.\u001b[39mfit_pars\n\u001b[1;32m     66\u001b[0m     )\n\u001b[1;32m     68\u001b[0m     fit_model\u001b[39m.\u001b[39mset_fit_result(result)\n",
      "File \u001b[0;32m~/.conda/envs/astro/lib/python3.8/site-packages/ngmix/fitting/fitters.py:72\u001b[0m, in \u001b[0;36mFitter._make_fit_model\u001b[0;34m(self, obs, guess)\u001b[0m\n\u001b[1;32m     71\u001b[0m \u001b[39mdef\u001b[39;00m \u001b[39m_make_fit_model\u001b[39m(\u001b[39mself\u001b[39m, obs, guess):\n\u001b[0;32m---> 72\u001b[0m     \u001b[39mreturn\u001b[39;00m FitModel(\n\u001b[1;32m     73\u001b[0m         obs\u001b[39m=\u001b[39;49mobs, model\u001b[39m=\u001b[39;49m\u001b[39mself\u001b[39;49m\u001b[39m.\u001b[39;49mmodel, guess\u001b[39m=\u001b[39;49mguess, prior\u001b[39m=\u001b[39;49m\u001b[39mself\u001b[39;49m\u001b[39m.\u001b[39;49mprior,\n\u001b[1;32m     74\u001b[0m     )\n",
      "File \u001b[0;32m~/.conda/envs/astro/lib/python3.8/site-packages/ngmix/fitting/results.py:36\u001b[0m, in \u001b[0;36mFitModel.__init__\u001b[0;34m(self, obs, model, guess, prior)\u001b[0m\n\u001b[1;32m     34\u001b[0m \u001b[39mself\u001b[39m\u001b[39m.\u001b[39m_set_obs(obs)\n\u001b[1;32m     35\u001b[0m \u001b[39mself\u001b[39m\u001b[39m.\u001b[39m_set_totpix()\n\u001b[0;32m---> 36\u001b[0m \u001b[39mself\u001b[39;49m\u001b[39m.\u001b[39;49m_set_npars()\n\u001b[1;32m     38\u001b[0m \u001b[39mself\u001b[39m\u001b[39m.\u001b[39m_set_n_prior_pars()\n\u001b[1;32m     39\u001b[0m \u001b[39mself\u001b[39m\u001b[39m.\u001b[39m_set_fdiff_size()\n",
      "File \u001b[0;32m~/.conda/envs/astro/lib/python3.8/site-packages/ngmix/fitting/results.py:255\u001b[0m, in \u001b[0;36mFitModel._set_npars\u001b[0;34m(self)\u001b[0m\n\u001b[1;32m    250\u001b[0m \u001b[39mdef\u001b[39;00m \u001b[39m_set_npars\u001b[39m(\u001b[39mself\u001b[39m):\n\u001b[1;32m    251\u001b[0m     \u001b[39m\"\"\"\u001b[39;00m\n\u001b[1;32m    252\u001b[0m \u001b[39m    Set the number of parameters.  nband should be set in set_lists, called\u001b[39;00m\n\u001b[1;32m    253\u001b[0m \u001b[39m    before this\u001b[39;00m\n\u001b[1;32m    254\u001b[0m \u001b[39m    \"\"\"\u001b[39;00m\n\u001b[0;32m--> 255\u001b[0m     \u001b[39mself\u001b[39m\u001b[39m.\u001b[39mnpars \u001b[39m=\u001b[39m gmix\u001b[39m.\u001b[39;49mget_model_npars(\u001b[39mself\u001b[39;49m\u001b[39m.\u001b[39;49mmodel) \u001b[39m+\u001b[39m \u001b[39mself\u001b[39m\u001b[39m.\u001b[39mnband \u001b[39m-\u001b[39m \u001b[39m1\u001b[39m\n",
      "File \u001b[0;32m~/.conda/envs/astro/lib/python3.8/site-packages/ngmix/gmix/gmix.py:1222\u001b[0m, in \u001b[0;36mget_model_npars\u001b[0;34m(model)\u001b[0m\n\u001b[1;32m   1220\u001b[0m     \u001b[39mraise\u001b[39;00m \u001b[39mValueError\u001b[39;00m(\u001b[39m\"\u001b[39m\u001b[39mbad model: \u001b[39m\u001b[39m'\u001b[39m\u001b[39m%s\u001b[39;00m\u001b[39m'\u001b[39m\u001b[39m\"\u001b[39m \u001b[39m%\u001b[39m model)\n\u001b[1;32m   1221\u001b[0m mi \u001b[39m=\u001b[39m _gmix_model_dict[model]\n\u001b[0;32m-> 1222\u001b[0m \u001b[39mreturn\u001b[39;00m _gmix_npars_dict[mi]\n",
      "\u001b[0;31mKeyError\u001b[0m: 0"
     ]
    }
   ],
   "source": [
    "rng = np.random.RandomState(235)\n",
    "scale = 0.2 # pixel scale\n",
    "\n",
    "psf_im = torch.load(\"psf_23.5_0.pth\").numpy()\n",
    "obs_im = torch.load(\"obs_23.5_0.pth\").numpy()\n",
    "gt_im = torch.load(\"gt_23.5_0.pth\").numpy()\n",
    "\n",
    "cen = (np.array(obs_im.shape)-1.0)/2.0\n",
    "psf_cen = (np.array(psf_im.shape)-1.0)/2.0\n",
    "\n",
    "jacobian = ngmix.DiagonalJacobian(\n",
    "    row=cen[0], col=cen[1], scale=scale,\n",
    ")\n",
    "psf_jacobian = ngmix.DiagonalJacobian(\n",
    "    row=psf_cen[0], col=psf_cen[1], scale=scale,\n",
    ")\n",
    "    \n",
    "psf_obs = ngmix.Observation(\n",
    "    image=psf_im,\n",
    "    jacobian=psf_jacobian,\n",
    ")\n",
    "obs = ngmix.Observation(\n",
    "    image=obs_im,\n",
    "    jacobian=jacobian,\n",
    "    psf=psf_obs,\n",
    ")\n",
    "\n",
    "# fit the object to an exponential disk\n",
    "prior = get_prior(rng=rng, scale=obs.jacobian.scale)\n",
    "# fit bulge+disk with fixed size ratio, using the levenberg marquards algorithm\n",
    "fitter = ngmix.fitting.Fitter(model='full', prior=prior)\n",
    "\n",
    "# _gmix_model_dict = {\n",
    "#     \"full\": GMIX_FULL,\n",
    "#     GMIX_FULL: GMIX_FULL,\n",
    "#     \"gauss\": GMIX_GAUSS,\n",
    "#     GMIX_GAUSS: GMIX_GAUSS,\n",
    "#     \"turb\": GMIX_TURB,\n",
    "#     GMIX_TURB: GMIX_TURB,\n",
    "#     \"exp\": GMIX_EXP,\n",
    "#     GMIX_EXP: GMIX_EXP,\n",
    "#     \"dev\": GMIX_DEV,\n",
    "#     GMIX_DEV: GMIX_DEV,\n",
    "#     \"bdc\": GMIX_BDC,\n",
    "#     GMIX_BDC: GMIX_BDC,\n",
    "#     \"bd\": GMIX_BD,\n",
    "#     GMIX_BD: GMIX_BD,\n",
    "#     \"bdf\": GMIX_BDF,\n",
    "#     GMIX_BDF: GMIX_BDF,\n",
    "#     GMIX_CM: GMIX_CM,\n",
    "#     \"cm\": GMIX_CM,\n",
    "#     \"coellip\": GMIX_COELLIP,\n",
    "#     GMIX_COELLIP: GMIX_COELLIP,\n",
    "# }\n",
    "\n",
    "# make parameter guesses based on a psf flux and a rough T\n",
    "guesser = ngmix.guessers.TPSFFluxAndPriorGuesser(\n",
    "    rng=rng,\n",
    "    T=0.25,\n",
    "    prior=prior,\n",
    ")\n",
    "\n",
    "# psf fitting with coelliptical gaussians\n",
    "psf_ngauss = 1\n",
    "psf_fitter = ngmix.em.EMFitter()\n",
    "# guesses full gmix objects\n",
    "psf_guesser = ngmix.guessers.GMixPSFGuesser(rng=rng, ngauss=psf_ngauss)\n",
    "\n",
    "# this runs the fitter. We set ntry=2 to retry the fit if it fails\n",
    "psf_runner = ngmix.runners.PSFRunner(\n",
    "    fitter=psf_fitter, guesser=psf_guesser,\n",
    "    ntry=2,\n",
    ")\n",
    "runner = ngmix.runners.Runner(\n",
    "    fitter=fitter, guesser=guesser,\n",
    "    ntry=2,\n",
    ")\n",
    "\n",
    "# this bootstraps the process, first fitting psfs then the object\n",
    "boot = ngmix.bootstrap.Bootstrapper(\n",
    "    runner=runner,\n",
    "    psf_runner=psf_runner,\n",
    ")\n",
    "\n",
    "res = boot.go(obs)\n",
    "rec_im = res.make_image()"
   ]
  },
  {
   "cell_type": "code",
   "execution_count": null,
   "metadata": {},
   "outputs": [
    {
     "name": "stdout",
     "output_type": "stream",
     "text": [
      "Ground truth shear (FPFS): (0.270,-0.150)\n",
      "Observed shear (FPFS): (0.082,-0.057)\n",
      "Recovered shear (ngmix): (0.126,-0.059)\n",
      "Recovered shear (FPFS): (0.054,-0.047)\n"
     ]
    }
   ],
   "source": [
    "gt_shear = estimate_shear(gt_im)\n",
    "obs_shear = estimate_shear(obs_im)\n",
    "rec_shear = estimate_shear(rec_im)\n",
    "\n",
    "print('Ground truth shear (FPFS): ({:.3f},{:.3f})'.format(gt_shear[0], gt_shear[1]))\n",
    "print('Observed shear (FPFS): ({:.3f},{:.3f})'.format(obs_shear[0], obs_shear[1]))\n",
    "print('Recovered shear (ngmix): ({:.3f},{:.3f})'.format(res['g'][0],res['g'][1]))\n",
    "print('Recovered shear (FPFS): ({:.3f},{:.3f})'.format(rec_shear[0], rec_shear[1]))"
   ]
  },
  {
   "cell_type": "code",
   "execution_count": null,
   "metadata": {},
   "outputs": [
    {
     "data": {
      "text/plain": [
       "Text(0.5, 1.0, 'Ground truth')"
      ]
     },
     "execution_count": 14,
     "metadata": {},
     "output_type": "execute_result"
    },
    {
     "data": {
      "image/png": "[encoded data removed]",
      "text/plain": [
       "<Figure size 1200x600 with 3 Axes>"
      ]
     },
     "metadata": {},
     "output_type": "display_data"
    }
   ],
   "source": [
    "plt.figure(figsize=(12,6))\n",
    "plt.subplot(1,3,1)\n",
    "plt.imshow(obs_im)\n",
    "plt.title('Observation')\n",
    "\n",
    "plt.subplot(1,3,2)\n",
    "plt.imshow(rec_im)\n",
    "plt.title('Recovered Galaxy')\n",
    "\n",
    "plt.subplot(1,3,3)\n",
    "plt.imshow(gt_im)\n",
    "plt.title('Ground truth')"
   ]
  }
 ],
 "metadata": {
  "kernelspec": {
   "display_name": "astro",
   "language": "python",
   "name": "python3"
  },
  "language_info": {
   "codemirror_mode": {
    "name": "ipython",
    "version": 3
   },
   "file_extension": ".py",
   "mimetype": "text/x-python",
   "name": "python",
   "nbconvert_exporter": "python",
   "pygments_lexer": "ipython3",
   "version": "3.8.15"
  },
  "orig_nbformat": 4,
  "vscode": {
   "interpreter": {
    "hash": "baefa36f9901adaf325a313b208b493aec3ce2f722d74c8793620106c5e8f66e"
   }
  }
 },
 "nbformat": 4,
 "nbformat_minor": 2
}
