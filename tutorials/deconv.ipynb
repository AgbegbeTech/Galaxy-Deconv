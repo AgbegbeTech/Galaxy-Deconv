{
 "cells": [
  {
   "cell_type": "markdown",
   "metadata": {},
   "source": [
    "## Deconvolution iwith Unrolled ADMM\n",
    "\n",
    "This notebook is a tutorial on deconvolving galaxy images using the suggested unrolled ADMM model."
   ]
  },
  {
   "cell_type": "code",
   "execution_count": null,
   "metadata": {},
   "outputs": [],
   "source": [
    "import sys\n",
    "sys.path.append('../')\n",
    "import os\n",
    "import numpy as np\n",
    "import matplotlib.pyplot as plt\n",
    "import torch\n",
    "from torch.fft import fft2, ifft2, fftshift, ifftshift\n",
    "import galsim\n",
    "from models.Unrolled_ADMM import Unrolled_ADMM\n",
    "from utils.utils import PSNR, estimate_shear\n",
    "\n",
    "%matplotlib inline\n",
    "\n",
    "device = torch.device(\"cuda:0\" if torch.cuda.is_available() else \"cpu\")"
   ]
  },
  {
   "cell_type": "markdown",
   "metadata": {},
   "source": [
    "## Read in Images"
   ]
  },
  {
   "cell_type": "code",
   "execution_count": null,
   "metadata": {},
   "outputs": [],
   "source": [
    "psf = torch.load(\"psf_23.5_0.pth\").unsqueeze(0)\n",
    "obs = torch.load(\"obs_23.5_0.pth\").unsqueeze(0)\n",
    "gt = torch.load(\"gt_23.5_0.pth\").unsqueeze(0)\n",
    "\n",
    "\n",
    "obs = (obs - obs.min())/(obs.max() - obs.min())\n",
    "gt = (gt - gt.min())/(gt.max() - gt.min())"
   ]
  },
  {
   "cell_type": "markdown",
   "metadata": {},
   "source": [
    "## Load in Trained Model"
   ]
  },
  {
   "cell_type": "code",
   "execution_count": null,
   "metadata": {},
   "outputs": [],
   "source": [
    "n_iters = 8                 # number of iterations\n",
    "model_file = f'../saved_models/Poisson_PnP_{n_iters}iters_LSST23.5_50epochs.pth'\n",
    "\n",
    "model = Unrolled_ADMM(n_iters=n_iters, llh='Poisson', PnP=True)\n",
    "model.to(device)\n",
    "model.eval()\n",
    "model.load_state_dict(torch.load(model_file, map_location=torch.device(device)))\n",
    "print(f'Successfully loaded in {model_file}.')"
   ]
  },
  {
   "cell_type": "markdown",
   "metadata": {},
   "source": [
    "## Deconvolution"
   ]
  },
  {
   "cell_type": "code",
   "execution_count": null,
   "metadata": {},
   "outputs": [],
   "source": [
    "# calculate average photon level\n",
    "alpha = obs.ravel().mean()\n",
    "alpha = torch.Tensor(alpha.float()).view(1,1,1,1)\n",
    "\n",
    "output = model(obs.unsqueeze(dim=0).unsqueeze(dim=0).to(device), psf.unsqueeze(dim=0).unsqueeze(dim=0).to(device), alpha.to(device))\n",
    "rec = (output.cpu() * alpha.cpu()).squeeze(dim=0).squeeze(dim=0).detach().numpy()"
   ]
  },
  {
   "cell_type": "markdown",
   "metadata": {},
   "source": [
    "## Visualization"
   ]
  },
  {
   "cell_type": "code",
   "execution_count": null,
   "metadata": {},
   "outputs": [],
   "source": [
    "cmap = 'magma'\n",
    "plt.figure(figsize=(10,10))\n",
    "plt.subplot(2,2,1)\n",
    "plt.imshow(obs, cmap=cmap)\n",
    "plt.title('Observed Galaxy')\n",
    "plt.subplot(2,2,2)\n",
    "plt.imshow(psf, cmap=cmap)\n",
    "plt.title('PSF')\n",
    "plt.subplot(2,2,3)\n",
    "plt.imshow(gt, cmap=cmap)\n",
    "plt.title('Ground Truth')\n",
    "plt.subplot(2,2,4)\n",
    "plt.imshow(rec, cmap=cmap)\n",
    "plt.title('Deconvolved Galaxy')"
   ]
  }
 ],
 "metadata": {
  "kernelspec": {
   "display_name": "Python 3.10.6 ('astro')",
   "language": "python",
   "name": "python3"
  },
  "language_info": {
   "name": "python",
   "version": "3.10.6"
  },
  "orig_nbformat": 4,
  "vscode": {
   "interpreter": {
    "hash": "d0b802fb624dc315c61dbc46f938e1a108e2fa9619ffc7341ed430915791398d"
   }
  }
 },
 "nbformat": 4,
 "nbformat_minor": 2
}
