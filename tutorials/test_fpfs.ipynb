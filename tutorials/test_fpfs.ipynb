{
 "cells": [
  {
   "cell_type": "code",
   "execution_count": 78,
   "metadata": {},
   "outputs": [],
   "source": [
    "import os\n",
    "import numpy as np\n",
    "from matplotlib import pyplot as plt\n",
    "import torch\n",
    "import fpfs"
   ]
  },
  {
   "cell_type": "code",
   "execution_count": 79,
   "metadata": {},
   "outputs": [],
   "source": [
    "psf_im = torch.load(\"psf_23.5_0.pth\").numpy()\n",
    "obs_im = torch.load(\"obs_23.5_0.pth\").numpy()\n",
    "gt_im = torch.load(\"gt_23.5_0.pth\").numpy()"
   ]
  },
  {
   "cell_type": "code",
   "execution_count": 80,
   "metadata": {},
   "outputs": [
    {
     "name": "stdout",
     "output_type": "stream",
     "text": [
      "[0.11668029] [0.1166759] [-0.00101254]\n"
     ]
    }
   ],
   "source": [
    "fpTask = fpfs.image.measure_source(psf_im, noiFit=None, sigma_arcsec=2, pix_scale=0.2)\n",
    "mms = fpTask.measure(obs_im)\n",
    "ells = fpfs.catalog.fpfsM2E(mms,const=1,noirev=False)\n",
    "resp = ells['fpfs_R1E']\n",
    "e1, e2 = ells['fpfs_e1'], ells['fpfs_e2']\n",
    "g1 = ells['fpfs_e1']/resp\n",
    "g2 = ells['fpfs_e2']/resp\n",
    "g = np.sqrt(g1**2 + g2**2)\n",
    "print(g, g1, g2)"
   ]
  },
  {
   "cell_type": "code",
   "execution_count": 81,
   "metadata": {},
   "outputs": [
    {
     "name": "stdout",
     "output_type": "stream",
     "text": [
      "[0.01069813] [-0.01069583] [-0.00022175]\n"
     ]
    }
   ],
   "source": [
    "fpTask =  fpfs.image.measure_source(psf_im, noiFit=None, sigma_arcsec=3.2, pix_scale=0.2)\n",
    "mms = fpTask.measure(gt_im)\n",
    "ells = fpfs.catalog.fpfsM2E(mms,const=1,noirev=False)\n",
    "resp = ells['fpfs_R1E']\n",
    "e1, e2 = ells['fpfs_e1'], ells['fpfs_e2']\n",
    "g1 = ells['fpfs_e1']/resp\n",
    "g2 = ells['fpfs_e2']/resp\n",
    "g = np.sqrt(g1**2 + g2**2)\n",
    "print(g, g1, g2)"
   ]
  }
 ],
 "metadata": {
  "kernelspec": {
   "display_name": "astro",
   "language": "python",
   "name": "python3"
  },
  "language_info": {
   "codemirror_mode": {
    "name": "ipython",
    "version": 3
   },
   "file_extension": ".py",
   "mimetype": "text/x-python",
   "name": "python",
   "nbconvert_exporter": "python",
   "pygments_lexer": "ipython3",
   "version": "3.10.6 | packaged by conda-forge | (main, Aug 22 2022, 20:41:22) [Clang 13.0.1 ]"
  },
  "orig_nbformat": 4,
  "vscode": {
   "interpreter": {
    "hash": "d0b802fb624dc315c61dbc46f938e1a108e2fa9619ffc7341ed430915791398d"
   }
  }
 },
 "nbformat": 4,
 "nbformat_minor": 2
}
