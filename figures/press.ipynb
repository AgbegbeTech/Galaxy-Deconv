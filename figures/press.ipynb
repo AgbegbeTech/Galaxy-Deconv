{
 "cells": [
  {
   "cell_type": "code",
   "execution_count": 1,
   "metadata": {},
   "outputs": [],
   "source": [
    "import sys\n",
    "sys.path.append('../')\n",
    "import os\n",
    "import numpy as np\n",
    "import matplotlib\n",
    "import matplotlib.pyplot as plt\n",
    "import matplotlib.gridspec as gridspec\n",
    "import torch\n",
    "import torch.nn.functional as F\n",
    "from torch.fft import fft2, ifft2, fftshift, ifftshift\n",
    "import galsim\n",
    "from models.Richard_Lucy import Richard_Lucy\n",
    "from models.Tikhonet import Tikhonet\n",
    "from models.Unrolled_ADMM import Unrolled_ADMM, InitNet, ResUNet\n",
    "from utils.utils_test import PSNR, estimate_shear\n",
    "from utils.utils_data import down_sample, get_flux\n",
    "\n",
    "%matplotlib inline\n",
    "\n",
    "os.environ[\"CUDA_VISIBLE_DEVICES\"] = '2'\n",
    "device = torch.device(\"cuda:0\" if torch.cuda.is_available() else \"cpu\")"
   ]
  },
  {
   "cell_type": "code",
   "execution_count": 2,
   "metadata": {},
   "outputs": [],
   "source": [
    "fov_pixels = 48                     # Number of pixels in FOV, the size of the image is (fov_pixels, fov_pixels).\n",
    "pixel_scale = 0.2                   # Pixel scale (aresec), determines the resolution (0.2 for LSST).\n",
    "upsample = 4                        # Upsample factor for the images.\n",
    "\n",
    "psf_delta = np.zeros([fov_pixels, fov_pixels])\n",
    "psf_delta[int(fov_pixels/2)-1,int(fov_pixels/2)-1] = 1"
   ]
  },
  {
   "cell_type": "code",
   "execution_count": 3,
   "metadata": {},
   "outputs": [
    {
     "name": "stdout",
     "output_type": "stream",
     "text": [
      "sky_level_pixel: 349.47\n"
     ]
    }
   ],
   "source": [
    "exp_time = 30.                      # Exposure time (2*15 seconds).\n",
    "sky_brightness = 20.48              # Sky brightness (absolute magnitude) in i band.\n",
    "zero_point = 27.85                  # Instrumental zero point, i.e. asolute magnitude that would produce one e- per second.\n",
    "gain = 2.3                          # CCD Gain (e-/ADU).\n",
    "qe = 0.94                           # CCD Quantum efficiency.\n",
    "read_noise = 8.8                    # Standrad deviation of Gaussain read noise (e-/pixel).\n",
    "\n",
    "sky_level_pixel = get_flux(ab_magnitude=sky_brightness, exp_time=exp_time, zero_point=zero_point, gain=gain, qe=qe) * pixel_scale ** 2\n",
    "print('sky_level_pixel: {:.2f}'.format(sky_level_pixel))"
   ]
  },
  {
   "cell_type": "code",
   "execution_count": 4,
   "metadata": {},
   "outputs": [
    {
     "ename": "OSError",
     "evalue": "No RealGalaxy catalog found in /Users/luke/miniforge3/envs/astro/lib/python3.8/site-packages/galsim/share/COSMOS_23.5_training_sample. Run the program galsim_download_cosmos -s 23.5 to download catalog and accompanying image files.",
     "output_type": "error",
     "traceback": [
      "\u001b[0;31m---------------------------------------------------------------------------\u001b[0m",
      "\u001b[0;31mOSError\u001b[0m                                   Traceback (most recent call last)",
      "Cell \u001b[0;32mIn[4], line 4\u001b[0m\n\u001b[1;32m      2\u001b[0m COSMOS_dir \u001b[39m=\u001b[39m \u001b[39m'\u001b[39m\u001b[39m/mnt/WD6TB/tianaoli/COSMOS_23.5_training_sample/\u001b[39m\u001b[39m'\u001b[39m \u001b[39m# path to your COSMOS data.\u001b[39;00m\n\u001b[1;32m      3\u001b[0m \u001b[39m# real_galaxy_catalog = galsim.RealGalaxyCatalog(dir=COSMOS_dir, sample=\"23.5\")\u001b[39;00m\n\u001b[0;32m----> 4\u001b[0m real_galaxy_catalog \u001b[39m=\u001b[39m galsim\u001b[39m.\u001b[39;49mRealGalaxyCatalog(sample\u001b[39m=\u001b[39;49m\u001b[39m\"\u001b[39;49m\u001b[39m23.5\u001b[39;49m\u001b[39m\"\u001b[39;49m)\n\u001b[1;32m      6\u001b[0m \u001b[39m# Pick a galaxy\u001b[39;00m\n\u001b[1;32m      7\u001b[0m gal_idx \u001b[39m=\u001b[39m \u001b[39m0\u001b[39m \u001b[39m# Galaxy index in the catalog\u001b[39;00m\n",
      "File \u001b[0;32m~/miniforge3/envs/astro/lib/python3.8/site-packages/galsim/real.py:544\u001b[0m, in \u001b[0;36mRealGalaxyCatalog.__init__\u001b[0;34m(self, file_name, sample, dir, preload, logger)\u001b[0m\n\u001b[1;32m    538\u001b[0m     \u001b[39mraise\u001b[39;00m GalSimIncompatibleValuesError(\n\u001b[1;32m    539\u001b[0m         \u001b[39m\"\u001b[39m\u001b[39mCannot specify both the sample and file_name.\u001b[39m\u001b[39m\"\u001b[39m,\n\u001b[1;32m    540\u001b[0m         sample\u001b[39m=\u001b[39msample, file_name\u001b[39m=\u001b[39mfile_name)\n\u001b[1;32m    542\u001b[0m logger \u001b[39m=\u001b[39m LoggerWrapper(logger)\n\u001b[0;32m--> 544\u001b[0m \u001b[39mself\u001b[39m\u001b[39m.\u001b[39mfile_name, \u001b[39mself\u001b[39m\u001b[39m.\u001b[39mimage_dir, \u001b[39mself\u001b[39m\u001b[39m.\u001b[39msample \u001b[39m=\u001b[39m _parse_files_dirs(file_name, \u001b[39mdir\u001b[39;49m, sample)\n\u001b[1;32m    546\u001b[0m \u001b[39mwith\u001b[39;00m pyfits\u001b[39m.\u001b[39mopen(\u001b[39mself\u001b[39m\u001b[39m.\u001b[39mfile_name) \u001b[39mas\u001b[39;00m fits:\n\u001b[1;32m    547\u001b[0m     \u001b[39mself\u001b[39m\u001b[39m.\u001b[39mcat \u001b[39m=\u001b[39m fits[\u001b[39m1\u001b[39m]\u001b[39m.\u001b[39mdata\n",
      "File \u001b[0;32m~/miniforge3/envs/astro/lib/python3.8/site-packages/galsim/real.py:870\u001b[0m, in \u001b[0;36m_parse_files_dirs\u001b[0;34m(file_name, image_dir, sample)\u001b[0m\n\u001b[1;32m    868\u001b[0m             \u001b[39mraise\u001b[39;00m GalSimValueError(\u001b[39m\"\u001b[39m\u001b[39mSample name not recognized.\u001b[39m\u001b[39m\"\u001b[39m,use_sample, (\u001b[39m'\u001b[39m\u001b[39m23.5\u001b[39m\u001b[39m'\u001b[39m, \u001b[39m'\u001b[39m\u001b[39m25.2\u001b[39m\u001b[39m'\u001b[39m))\n\u001b[1;32m    869\u001b[0m         \u001b[39melse\u001b[39;00m:\n\u001b[0;32m--> 870\u001b[0m             \u001b[39mraise\u001b[39;00m \u001b[39mOSError\u001b[39;00m(\u001b[39m'\u001b[39m\u001b[39mNo RealGalaxy catalog found in \u001b[39m\u001b[39m%s\u001b[39;00m\u001b[39m. Run the program \u001b[39m\u001b[39m'\u001b[39m\n\u001b[1;32m    871\u001b[0m                           \u001b[39m'\u001b[39m\u001b[39mgalsim_download_cosmos -s \u001b[39m\u001b[39m%s\u001b[39;00m\u001b[39m to download catalog and accompanying \u001b[39m\u001b[39m'\u001b[39m\n\u001b[1;32m    872\u001b[0m                           \u001b[39m'\u001b[39m\u001b[39mimage files.\u001b[39m\u001b[39m'\u001b[39m\u001b[39m%\u001b[39m(image_dir, use_sample))\n\u001b[1;32m    873\u001b[0m \u001b[39melif\u001b[39;00m image_dir \u001b[39mis\u001b[39;00m \u001b[39mNone\u001b[39;00m:\n\u001b[1;32m    874\u001b[0m     full_file_name \u001b[39m=\u001b[39m file_name\n",
      "\u001b[0;31mOSError\u001b[0m: No RealGalaxy catalog found in /Users/luke/miniforge3/envs/astro/lib/python3.8/site-packages/galsim/share/COSMOS_23.5_training_sample. Run the program galsim_download_cosmos -s 23.5 to download catalog and accompanying image files."
     ]
    }
   ],
   "source": [
    "# Initialize catalog\n",
    "COSMOS_dir = '/mnt/WD6TB/tianaoli/COSMOS_23.5_training_sample/' # path to your COSMOS data.\n",
    "# real_galaxy_catalog = galsim.RealGalaxyCatalog(dir=COSMOS_dir, sample=\"23.5\")\n",
    "real_galaxy_catalog = galsim.RealGalaxyCatalog(sample=\"23.5\")\n",
    "\n",
    "# Pick a galaxy\n",
    "gal_idx = 0 # Galaxy index in the catalog\n",
    "gal_ori = galsim.RealGalaxy(real_galaxy_catalog, index=gal_idx)\n",
    "psf_hst = real_galaxy_catalog.getPSF(gal_idx)"
   ]
  },
  {
   "cell_type": "code",
   "execution_count": null,
   "metadata": {},
   "outputs": [],
   "source": [
    "random_seed = 31415\n",
    "rng_base = galsim.BaseDeviate(seed=random_seed)\n",
    "rng = galsim.UniformDeviate(seed=random_seed) # U(0,1).\n",
    "rng_defocus = galsim.GaussianDeviate(rng_base, mean=0., sigma=0.36) # N(0,0.36).\n",
    "rng_gaussian = galsim.GaussianDeviate(rng_base, mean=0., sigma=0.07) # N(0,0.07).\n",
    "# The FWHM of the PSF, namely the atmospheric seeing.\n",
    "fwhms = np.array([0.45, 0.55, 0.65, 0.75, 0.85, 0.95])\n",
    "freqs = np.array([0., 20., 17., 13., 9., 0.])\n",
    "fwhm_table = galsim.LookupTable(x=fwhms, f=freqs, interpolant='spline')\n",
    "fwhms = np.linspace(fwhms[0],fwhms[-1],100) # Upsample the distribution.\n",
    "freqs = np.array([fwhm_table(fwhm) for fwhm in fwhms]) / fwhm_table.integrate() # Normalization.\n",
    "rng_fwhm = galsim.DistDeviate(seed=rng_base, function=galsim.LookupTable(x=fwhms, f=freqs, interpolant='spline'))"
   ]
  },
  {
   "cell_type": "code",
   "execution_count": null,
   "metadata": {},
   "outputs": [],
   "source": [
    "# Atmospheric PSF\n",
    "atmos_fwhm = rng_fwhm()             # Atmospheric seeing (arcsec), the FWHM of the Kolmogorov function.\n",
    "atmos_e = 0.01 + 0.02 * rng()       # Ellipticity of atmospheric PSF (magnitude of the shear in the “distortion” definition), U(0.01, 0.03).\n",
    "atmos_beta = 2. * np.pi * rng()     # Shear position angle (radians), N(0,2*pi).\n",
    "\n",
    "# Optical PSF\n",
    "opt_defocus = rng_defocus()         # Defocus (wavelength), N(0.0.36).\n",
    "opt_a1 = rng_gaussian()             # Astigmatism (like e2) (wavelength), N(0.0.07).\n",
    "opt_a2 = rng_gaussian()             # Astigmatism (like e1) (wavelength), N(0.0.07).\n",
    "opt_c1 = rng_gaussian()             # Coma along y axis (wavelength), N(0.0.07).\n",
    "opt_c2 = rng_gaussian()             # Coma along x axis (wavelength), N(0.0.07).\n",
    "spher = rng_gaussian()              # Spherical aberration (wavelength), N(0.0.07).\n",
    "trefoil1 = rng_gaussian()           # Trefoil along y axis (wavelength), N(0.0.07).\n",
    "trefoil2 = rng_gaussian()           # Trefoil along x axis (wavelength), N(0.0.07).\n",
    "opt_obscuration = 0.1 + 0.4 * rng() # Linear dimension of central obscuration as fraction of pupil linear dimension, U(0.1, 0.5).\n",
    "lam_over_diam = .013 + 0.07 * rng() # Wavelength over diameter (arcsec), U(0.013, 0.083)."
   ]
  },
  {
   "cell_type": "code",
   "execution_count": null,
   "metadata": {},
   "outputs": [],
   "source": [
    "# Atmospheric PSF\n",
    "atmos = galsim.Kolmogorov(fwhm=atmos_fwhm, flux=1)\n",
    "atmos = atmos.shear(e=atmos_e, beta=atmos_beta*galsim.radians)\n",
    "\n",
    "# Optical PSF\n",
    "optics = galsim.OpticalPSF(lam_over_diam,\n",
    "                           defocus = opt_defocus,\n",
    "                           coma1 = opt_c1, coma2 = opt_c2,\n",
    "                           astig1 = opt_a1, astig2 = opt_a2,\n",
    "                           spher=spher, trefoil1=trefoil1, trefoil2=trefoil2,\n",
    "                           obscuration = opt_obscuration,\n",
    "                           flux=1)\n",
    "\n",
    "# Convolve the two components\n",
    "psf = galsim.Convolve([atmos, optics])\n",
    "\n",
    "# Draw PSF images\n",
    "# optics_psf_image = galsim.ImageF(upsample*fov_pixels, upsample*fov_pixels)\n",
    "# optics.drawImage(optics_psf_image, scale=pixel_scale/upsample, method='auto')\n",
    "# atmos_psf_image = galsim.ImageF(upsample*fov_pixels, upsample*fov_pixels)\n",
    "# atmos.drawImage(atmos_psf_image, scale=pixel_scale/upsample, method='auto')\n",
    "psf_image = galsim.ImageF(upsample*fov_pixels, upsample*fov_pixels)\n",
    "psf.drawImage(psf_image, scale=pixel_scale/upsample, method='auto')\n",
    "psf_image = torch.from_numpy(psf_image.array)\n",
    "psf_image = torch.max(torch.zeros_like(psf_image), psf_image)"
   ]
  },
  {
   "cell_type": "code",
   "execution_count": null,
   "metadata": {},
   "outputs": [],
   "source": [
    "rng_gal_shear = galsim.DistDeviate(seed=rng, function=lambda x: x, x_min=0.01, x_max=0.05)\n",
    "\n",
    "gal_g = rng_gal_shear()             # Shear of the galaxy (magnitude of the shear in the \"reduced shear\" definition), U(0.01, 0.05).\n",
    "gal_beta = 2. * np.pi * rng()       # Shear position angle (radians), N(0,2*pi).\n",
    "gal_mu = 1 + rng() * 0.1            # Magnification, U(1.,1.1).\n",
    "theta = 2. * np.pi * rng()          # Rotation angle (radians), U(0,2*pi).\n",
    "dx = 2 * rng() - 1                  # Offset along x axis, U(-1,1).\n",
    "dy = 2 * rng() - 1                  # Offset along y axis, U(-1,1)."
   ]
  },
  {
   "cell_type": "code",
   "execution_count": null,
   "metadata": {},
   "outputs": [],
   "source": [
    "gal = gal_ori.rotate(theta * galsim.radians) # Rotate by a random angle\n",
    "gal = gal.shear(g=gal_g, beta=gal_beta * galsim.radians) # Apply the desired shear\n",
    "gal = gal.magnify(gal_mu) # Apply a magnification\n",
    "\n",
    "# Draw galaxy image\n",
    "gal_image = galsim.ImageF(upsample*fov_pixels, upsample*fov_pixels)\n",
    "# try:\n",
    "#     gal.drawImage(gal_image, scale=pixel_scale, offset=(dx,dy), method='auto')\n",
    "# except:\n",
    "gal = galsim.Convolve([psf_hst, gal]) # Convolve wth original PSF of HST to avoid FFT error\n",
    "gal.drawImage(gal_image, scale=pixel_scale/upsample, offset=(dx,dy), method='auto')\n",
    "gal_image = torch.from_numpy(gal_image.array)"
   ]
  },
  {
   "cell_type": "code",
   "execution_count": null,
   "metadata": {},
   "outputs": [],
   "source": [
    "def down_sample(input, rate=4):\n",
    "    weight = torch.ones([1,1,rate,rate]) / (rate**2) # Average filter.\n",
    "    input = input.unsqueeze(0).unsqueeze(0)\n",
    "    output = F.conv2d(input=input, weight=weight, stride=rate).squeeze(0).squeeze(0)\n",
    "    return output\n",
    "\n",
    "gal_image_down = down_sample(gal_image, rate=upsample)\n",
    "psf = down_sample(psf_image, rate=upsample)"
   ]
  },
  {
   "cell_type": "code",
   "execution_count": null,
   "metadata": {},
   "outputs": [],
   "source": [
    "snr_list = [20, 40, 100]\n",
    "gt_list = []\n",
    "\n",
    "sigma = np.sqrt(sky_level_pixel + 2 * (read_noise*qe/gain) ** 2)\n",
    "for snr in snr_list:\n",
    "    alpha = snr * sigma / torch.sqrt((gal_image_down**2).sum()) # Scale the flux of galaxy to meet SNR requirement.\n",
    "    gt_list.append(gal_image * alpha)"
   ]
  },
  {
   "cell_type": "code",
   "execution_count": null,
   "metadata": {},
   "outputs": [],
   "source": [
    "conv_list = []\n",
    "for i, gt in enumerate(gt_list):\n",
    "    conv = ifftshift(ifft2(fft2(psf_image) * fft2(gt))).real # Convolution using FFT.\n",
    "    conv = down_sample(conv)\n",
    "    conv = torch.max(torch.zeros_like(conv), conv) # Set negative pixels to zero.\n",
    "    conv_list.append(conv)\n",
    "    gt_list[i] = down_sample(gt)"
   ]
  },
  {
   "cell_type": "code",
   "execution_count": null,
   "metadata": {},
   "outputs": [],
   "source": [
    "obs_list = []\n",
    "gt_shear_list = []\n",
    "gaussian_noise = torch.normal(mean=torch.zeros_like(conv), std=sigma*torch.ones_like(conv))\n",
    "\n",
    "for gt, conv in zip(gt_list, conv_list):\n",
    "    obs = conv + gaussian_noise \n",
    "    # obs = conv + torch.normal(mean=torch.zeros_like(conv), std=sigma*torch.ones_like(conv))\n",
    "    # obs = torch.max(torch.zeros_like(obs), obs) # Set negative pixels to zero.\n",
    "    obs_list.append((obs, estimate_shear(obs.clone().numpy())[2], PSNR(obs.numpy(),gt.numpy())))\n",
    "    gt_shear_list.append(estimate_shear(gt.clone().numpy())[2])"
   ]
  },
  {
   "attachments": {},
   "cell_type": "markdown",
   "metadata": {},
   "source": [
    "### Richardson-Lucy"
   ]
  },
  {
   "cell_type": "code",
   "execution_count": null,
   "metadata": {},
   "outputs": [],
   "source": [
    "n_iters = 10\n",
    "\n",
    "rec_RLs = []\n",
    "model = Richard_Lucy(n_iters=n_iters)\n",
    "model.to(device)\n",
    "model.eval()\n",
    "for (obs, _, _), gt in zip(obs_list, gt_list):\n",
    "    output = model(obs.unsqueeze(dim=0).unsqueeze(dim=0).to(device)+sky_level_pixel, psf.unsqueeze(dim=0).unsqueeze(dim=0).to(device))\n",
    "    rec = output.squeeze(dim=0).squeeze(dim=0).cpu().numpy() - sky_level_pixel\n",
    "    rec_shear = estimate_shear(rec)[2]\n",
    "    rec_psnr = PSNR(rec, gt.clone())\n",
    "    rec_RLs.append((rec, rec_shear, rec_psnr))"
   ]
  },
  {
   "attachments": {},
   "cell_type": "markdown",
   "metadata": {},
   "source": [
    "### Tikhonet and ShapeNet"
   ]
  },
  {
   "cell_type": "code",
   "execution_count": null,
   "metadata": {},
   "outputs": [
    {
     "name": "stdout",
     "output_type": "stream",
     "text": [
      "Successfully loaded in ../saved_models/Tikhonet_Laplacian_50epochs.pth.\n",
      "Successfully loaded in ../saved_models/Shapenet_Laplacian_50epochs.pth.\n"
     ]
    }
   ],
   "source": [
    "rec_tiks = [[], []]\n",
    "model_files = [f'../saved_models/Tikhonet_Laplacian_50epochs.pth', \n",
    "               f'../saved_models/Shapenet_Laplacian_50epochs.pth']\n",
    "for idx, model_file in enumerate(model_files):\n",
    "    model = Tikhonet(filter='Laplacian')\n",
    "    model.to(device)\n",
    "    model.eval()\n",
    "    model.load_state_dict(torch.load(model_file, map_location=torch.device(device)))\n",
    "    print(f'Successfully loaded in {model_file}.')\n",
    "\n",
    "    for (obs, _, _), gt in zip(obs_list, gt_list):\n",
    "        alpha = obs.mean()\n",
    "        alpha = torch.Tensor(alpha.float()).view(1,1,1,1)\n",
    "\n",
    "        output = model(obs.unsqueeze(dim=0).unsqueeze(dim=0).to(device), psf.unsqueeze(dim=0).unsqueeze(dim=0).to(device), alpha.to(device))\n",
    "        rec = output.cpu().squeeze(dim=0).squeeze(dim=0).detach().numpy()\n",
    "        rec_shear = estimate_shear(rec)[2]\n",
    "        rec_psnr = PSNR(rec, gt.clone())\n",
    "\n",
    "        rec_tiks[idx].append((rec, rec_shear, rec_psnr))"
   ]
  },
  {
   "cell_type": "markdown",
   "metadata": {},
   "source": [
    "### Unrolled ADMM"
   ]
  },
  {
   "cell_type": "code",
   "execution_count": null,
   "metadata": {},
   "outputs": [
    {
     "name": "stdout",
     "output_type": "stream",
     "text": [
      "Successfully loaded in ../saved_models/Gaussian_PnP_ADMM_2iters_MultiScale_50epochs.pth.\n",
      "Successfully loaded in ../saved_models/Gaussian_PnP_ADMM_8iters_MultiScale_50epochs.pth.\n"
     ]
    }
   ],
   "source": [
    "iter_list = [2, 8]\n",
    "rec_admm = [[],[]]\n",
    "model_files = [f'../saved_models/Gaussian_PnP_ADMM_2iters_MultiScale_50epochs.pth', \n",
    "               f'../saved_models/Gaussian_PnP_ADMM_8iters_MultiScale_50epochs.pth']\n",
    "for idx, (n_iters, model_file) in enumerate(zip(iter_list, model_files)):\n",
    "    model = Unrolled_ADMM(n_iters=n_iters, llh='Gaussian', PnP=True)\n",
    "    model.to(device)\n",
    "    model.eval()\n",
    "    model.load_state_dict(torch.load(model_file, map_location=torch.device(device)))\n",
    "    print(f'Successfully loaded in {model_file}.')\n",
    "\n",
    "    for (obs, _, _), gt in zip(obs_list, gt_list):\n",
    "        alpha = obs.mean()\n",
    "        alpha = torch.Tensor(alpha.float()).view(1,1,1,1)\n",
    "\n",
    "        output = model(obs.unsqueeze(dim=0).unsqueeze(dim=0).to(device), psf.unsqueeze(dim=0).unsqueeze(dim=0).to(device), alpha.to(device))\n",
    "        rec = output.cpu().squeeze(dim=0).squeeze(dim=0).detach().numpy()\n",
    "\n",
    "        rec_admm[idx].append((rec, _, _))"
   ]
  },
  {
   "attachments": {},
   "cell_type": "markdown",
   "metadata": {},
   "source": [
    "### Plot Images\n",
    "\n",
    "Finally we can visualize our simulated galaxy. The histograms of the simulated images are also plotted, where vertical red dashed lines represents the sky level. The pixel values are centered at sky level and variance"
   ]
  },
  {
   "cell_type": "code",
   "execution_count": null,
   "metadata": {},
   "outputs": [
    {
     "data": {
      "image/png": "[encoded data removed]",
      "text/plain": [
       "<Figure size 2600x850 with 1 Axes>"
      ]
     },
     "metadata": {},
     "output_type": "display_data"
    }
   ],
   "source": [
    "fig = plt.figure(figsize=(26,8.5), facecolor='white')\n",
    "ax = plt.gca()\n",
    "gs = gridspec.GridSpec(6, 36)\n",
    "cmap = 'magma'\n",
    "\n",
    "for idx, (snr, obs, gt_shear, rec_RL, rec_tik, rec_shape, rec_2, rec_8) in enumerate(zip(snr_list, obs_list, gt_shear_list, rec_RLs, rec_tiks[0], rec_tiks[1], rec_admm[0], rec_admm[1])):\n",
    "    vmax = np.max([obs[0].max(), rec_RL[0].max(), rec_tik[0].max(), rec_shape[0].max(), rec_2[0].max(), rec_8[0].max()])\n",
    "    vmin = np.min([obs[0].min(), rec_RL[0].min(), rec_tik[0].min(), rec_shape[0].min(), rec_2[0].min(), rec_8[0].min()])\n",
    "    norm = matplotlib.colors.Normalize(vmax=vmax, vmin=vmin)\n",
    "    \n",
    "    plt.imsave(f'../figures/press_release/Observation_SNR={snr}.jpg', obs[0], cmap=cmap)\n",
    "    plt.imsave(f'../figures/press_release/RL_SNR={snr}.jpg', rec_RL[0], cmap=cmap)\n",
    "    plt.imsave(f'../figures/press_release/Tikhonet_SNR={snr}.jpg', rec_tik[0], cmap=cmap)\n",
    "    plt.imsave(f'../figures/press_release/ShapeNet_SNR={snr}.jpg', rec_shape[0], cmap=cmap)\n",
    "    plt.imsave(f'../figures/press_release/Unrolled-ADMM(2)_SNR={snr}.jpg', rec_2[0], cmap=cmap)\n",
    "    plt.imsave(f'../figures/press_release/Unrolled-ADMM(8)_SNR={snr}.jpg', rec_8[0], cmap=cmap)\n"
   ]
  }
 ],
 "metadata": {
  "kernelspec": {
   "display_name": "astro",
   "language": "python",
   "name": "python3"
  },
  "language_info": {
   "codemirror_mode": {
    "name": "ipython",
    "version": 3
   },
   "file_extension": ".py",
   "mimetype": "text/x-python",
   "name": "python",
   "nbconvert_exporter": "python",
   "pygments_lexer": "ipython3",
   "version": "3.8.16"
  },
  "orig_nbformat": 4,
  "vscode": {
   "interpreter": {
    "hash": "d0b802fb624dc315c61dbc46f938e1a108e2fa9619ffc7341ed430915791398d"
   }
  }
 },
 "nbformat": 4,
 "nbformat_minor": 2
}
