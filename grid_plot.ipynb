{
 "cells": [
  {
   "cell_type": "code",
   "execution_count": 144,
   "metadata": {},
   "outputs": [],
   "source": [
    "import os\n",
    "import json\n",
    "import numpy as np\n",
    "import matplotlib.pyplot as plt\n",
    "from mpl_toolkits.axes_grid1 import make_axes_locatable\n",
    "import torch\n",
    "from torch.fft import fft2, ifft2, fftshift, ifftshift\n",
    "from torch.utils.data import DataLoader\n",
    "import galsim\n",
    "from dataset import Galaxy_Dataset, get_COSMOS_Galaxy, get_LSST_PSF\n",
    "from models.Unrolled_ADMM import Unrolled_ADMM\n",
    "from models.Richard_Lucy import Richard_Lucy\n",
    "from utils.utils import PSNR, estimate_shear\n",
    "\n",
    "%matplotlib inline\n",
    "\n",
    "device = torch.device(\"cuda:0\" if torch.cuda.is_available() else \"cpu\")"
   ]
  },
  {
   "cell_type": "markdown",
   "metadata": {},
   "source": [
    "### Define basic parameters"
   ]
  },
  {
   "cell_type": "code",
   "execution_count": 122,
   "metadata": {},
   "outputs": [],
   "source": [
    "COSMOS_dir = '/mnt/WD6TB/tianaoli/COSMOS_23.5_training_sample/'\n",
    "real_galaxy_catalog = galsim.RealGalaxyCatalog(dir=COSMOS_dir, sample=str(23.5))\n",
    "\n",
    "fov_pixels = 48\n",
    "pixel_scale = 0.2\n",
    "gal_max_shear = 0.5\n",
    "seeing = 0.7\n",
    "atmos_max_shear = 0.2"
   ]
  },
  {
   "cell_type": "markdown",
   "metadata": {},
   "source": [
    "### Simulate PSF"
   ]
  },
  {
   "cell_type": "code",
   "execution_count": 123,
   "metadata": {},
   "outputs": [],
   "source": [
    "rng = galsim.UniformDeviate(seed=294) # Initialize the random number generator\n",
    "rng_gaussian = galsim.GaussianDeviate(seed=34, mean=seeing, sigma=0.18)\n",
    "# PSF parameters\n",
    "atmos_fwhm = 0 # arcsec (mean 0.7 for LSST)\n",
    "while atmos_fwhm < 0.35 or atmos_fwhm > 1.1: # sample fwhm\n",
    "    atmos_fwhm = rng_gaussian()\n",
    "atmos_e = rng() * atmos_max_shear # ellipticity of atmospheric PSF\n",
    "atmos_beta = 2. * np.pi * rng()     # radians\n",
    "atmos_shear = galsim.Shear(e=atmos_e, beta=atmos_beta * galsim.radians)\n",
    "opt_defocus = 0.3 + 0.4 * rng()     # wavelengths\n",
    "opt_a1 = 2*0.5*(rng() - 0.5)        # wavelengths (-0.29)\n",
    "opt_a2 = 2*0.5*(rng() - 0.5)        # wavelengths (0.12)\n",
    "opt_c1 = 2*1.*(rng() - 0.5)         # wavelengths (0.64)\n",
    "opt_c2 = 2*1.*(rng() - 0.5)         # wavelengths (-0.33)\n",
    "opt_obscuration = 0.165             # linear scale size of secondary mirror obscuration $(3.4/8.36)^2$\n",
    "lam = 700                           # nm    NB: don't use lambda - that's a reserved word.\n",
    "tel_diam = 8.36 # telescope diameter / meters (8.36 for LSST, 6.5 for JWST)\n",
    "pixel_scale = pixel_scale\n",
    "\n",
    "psf = get_LSST_PSF(lam, tel_diam, opt_defocus, opt_c1, opt_c2, opt_a1, opt_a2, opt_obscuration,\n",
    "                    atmos_fwhm, atmos_e, atmos_beta, 0, 0,\n",
    "                    fov_pixels, pixel_scale=pixel_scale) \n",
    "psf_delta = np.zeros([fov_pixels, fov_pixels])\n",
    "psf_delta[int(fov_pixels/2)-1,int(fov_pixels/2)-1] = 1"
   ]
  },
  {
   "cell_type": "markdown",
   "metadata": {},
   "source": [
    "### Simulate galaxy"
   ]
  },
  {
   "cell_type": "code",
   "execution_count": 124,
   "metadata": {},
   "outputs": [
    {
     "name": "stdout",
     "output_type": "stream",
     "text": [
      "gal_flux=62500.0 \tSNR=158.9\n",
      "gal_flux=25000.0 \tSNR=73.0\n",
      "gal_flux=10000.0 \tSNR=31.3\n",
      "gal_flux=7500.0 \tSNR=23.8\n",
      "gal_flux=4000.0 \tSNR=12.9\n"
     ]
    }
   ],
   "source": [
    "idx = 0 # index pf galaxy in the catalog\n",
    "\n",
    "# Galaxy parameters \n",
    "gal_e = rng() * gal_max_shear       # shear of galaxy\n",
    "gal_beta = 2. * np.pi * rng()       # radians\n",
    "gal_shear = galsim.Shear(e=gal_e, beta=gal_beta*galsim.radians)\n",
    "gal_mu = 1 + rng() * 0.1            # mu = ((1-kappa)^2 - g1^2 - g2^2)^-1 (1.082)\n",
    "theta = 2. * np.pi * rng()          # radians\n",
    "sky_level = 1.e3                     # ADU / arcsec^2\n",
    "dx, dy = rng() - 0.5, rng() - 0.5\n",
    "\n",
    "gal_flux_list = [6.25e4, 2.5e4, 1e4, 0.75e4, 0.4e4]\n",
    "gt_list = []\n",
    "snr_list = []\n",
    "for gal_flux in gal_flux_list:                    \n",
    "    gt, gal_orig = get_COSMOS_Galaxy(catalog=real_galaxy_catalog, idx=idx, \n",
    "                                        gal_flux=gal_flux, sky_level=sky_level, \n",
    "                                        gal_e=gal_e, gal_beta=gal_beta, \n",
    "                                        theta=theta, gal_mu=gal_mu, dx=dx, dy=dy, \n",
    "                                        fov_pixels=fov_pixels, pixel_scale=pixel_scale)\n",
    "    gt_list.append(gt)\n",
    "    snr = gal_flux/np.sqrt(gal_flux + sky_level*(fov_pixels**2)*(pixel_scale**2))\n",
    "    snr_list.append(snr)\n",
    "    print('gal_flux={:.1f} \\tSNR={:.1f}'.format(gal_flux, snr))\n"
   ]
  },
  {
   "cell_type": "markdown",
   "metadata": {},
   "source": [
    "### Simulate Observation"
   ]
  },
  {
   "cell_type": "code",
   "execution_count": 125,
   "metadata": {},
   "outputs": [],
   "source": [
    "obs_list = []\n",
    "for gt in gt_list:\n",
    "    # Convolution via FFT\n",
    "    conv = ifftshift(ifft2(fft2(psf) * fft2(gt))).real\n",
    "    conv = torch.max(torch.zeros_like(conv), conv) # set negative pixels to zero\n",
    "\n",
    "    # Add CCD noise (Poisson + Gaussian)\n",
    "    obs = torch.poisson(conv) + torch.normal(mean=torch.zeros_like(conv), std=2*torch.ones_like(conv))\n",
    "    obs = torch.max(torch.zeros_like(obs), obs) # set negative pixels to zero\n",
    "    obs = (obs - obs.min())/(obs.max() - obs.min())\n",
    "\n",
    "    obs_list.append(obs)"
   ]
  },
  {
   "cell_type": "markdown",
   "metadata": {},
   "source": [
    "### Wiener Deconvolution"
   ]
  },
  {
   "cell_type": "code",
   "execution_count": 126,
   "metadata": {},
   "outputs": [],
   "source": [
    "rec_wiener = []\n",
    "for obs, snr in zip(obs_list, snr_list):\n",
    "    rec = fftshift(ifft2(fft2(obs) / fft2(psf) / (1+1/(fft2(psf).abs()**2 * snr)) )).real\n",
    "    rec_wiener.append(rec)"
   ]
  },
  {
   "cell_type": "markdown",
   "metadata": {},
   "source": [
    "### Richardson-Lucy Deconvolution"
   ]
  },
  {
   "cell_type": "code",
   "execution_count": 127,
   "metadata": {},
   "outputs": [],
   "source": [
    "iter_list = [20,100]\n",
    "\n",
    "rec_RL = [[], []]\n",
    "for idx, n_iters in enumerate(iter_list):\n",
    "    model = Richard_Lucy(n_iters=n_iters)\n",
    "    model.to(device)\n",
    "    model.eval()\n",
    "    for obs in obs_list:\n",
    "        output = model(obs.unsqueeze(dim=0).unsqueeze(dim=0).to(device), psf.unsqueeze(dim=0).unsqueeze(dim=0).to(device))\n",
    "        rec = output.squeeze(dim=0).squeeze(dim=0).cpu().numpy()\n",
    "        rec_RL[idx].append(rec)"
   ]
  },
  {
   "cell_type": "markdown",
   "metadata": {},
   "source": [
    "### Unrolled ADMM"
   ]
  },
  {
   "cell_type": "code",
   "execution_count": 128,
   "metadata": {},
   "outputs": [
    {
     "name": "stdout",
     "output_type": "stream",
     "text": [
      "Successfully loaded in saved_models/Poisson_PnP_1iters_LSST23.5_50epochs.pth.\n",
      "Successfully loaded in saved_models/Poisson_PnP_8iters_LSST23.5_50epochs.pth.\n"
     ]
    }
   ],
   "source": [
    "iter_list = [1,8]\n",
    "rec_admm = [[], []]\n",
    "model_files = ['saved_models/Poisson_PnP_1iters_LSST23.5_50epochs.pth', \n",
    "               'saved_models/Poisson_PnP_8iters_LSST23.5_50epochs.pth']\n",
    "for idx, (n_iters, model_file) in enumerate(zip(iter_list, model_files)):\n",
    "    model = Unrolled_ADMM(n_iters=n_iters, llh='Poisson', PnP=True)\n",
    "    model.to(device)\n",
    "    model.eval()\n",
    "    model.load_state_dict(torch.load(model_file, map_location=torch.device(device)))\n",
    "    print(f'Successfully loaded in {model_file}.')\n",
    "\n",
    "    for obs in obs_list:\n",
    "        alpha = obs.ravel().mean()/0.33\n",
    "        alpha = torch.Tensor(alpha.float()).view(1,1,1,1)\n",
    "\n",
    "        output = model(obs.unsqueeze(dim=0).unsqueeze(dim=0).to(device), psf.unsqueeze(dim=0).unsqueeze(dim=0).to(device), alpha.to(device))\n",
    "        rec = (output.cpu() * alpha.cpu()).squeeze(dim=0).squeeze(dim=0).detach().numpy()\n",
    "        rec_admm[idx].append(rec)\n",
    "    "
   ]
  },
  {
   "cell_type": "markdown",
   "metadata": {},
   "source": [
    "### Grid Plot"
   ]
  },
  {
   "cell_type": "code",
   "execution_count": 146,
   "metadata": {},
   "outputs": [
    {
     "ename": "AttributeError",
     "evalue": "'Figure' object has no property 'bbox_inches'",
     "output_type": "error",
     "traceback": [
      "\u001b[0;31m---------------------------------------------------------------------------\u001b[0m",
      "\u001b[0;31mAttributeError\u001b[0m                            Traceback (most recent call last)",
      "\u001b[1;32m/home/tianaoli/Galaxy-Deconv/grid_plot.ipynb Cell 17\u001b[0m in \u001b[0;36m<cell line: 1>\u001b[0;34m()\u001b[0m\n\u001b[0;32m----> <a href='vscode-notebook-cell://ssh-remote%2Bcplgpurtx.cs.northwestern.edu/home/tianaoli/Galaxy-Deconv/grid_plot.ipynb#X16sdnNjb2RlLXJlbW90ZQ%3D%3D?line=0'>1</a>\u001b[0m fig \u001b[39m=\u001b[39m plt\u001b[39m.\u001b[39;49mfigure(figsize\u001b[39m=\u001b[39;49m(\u001b[39m19\u001b[39;49m,\u001b[39m14\u001b[39;49m), facecolor\u001b[39m=\u001b[39;49m\u001b[39m'\u001b[39;49m\u001b[39mwhite\u001b[39;49m\u001b[39m'\u001b[39;49m, bbox_inches\u001b[39m=\u001b[39;49m\u001b[39m'\u001b[39;49m\u001b[39mtight\u001b[39;49m\u001b[39m'\u001b[39;49m)\n\u001b[1;32m      <a href='vscode-notebook-cell://ssh-remote%2Bcplgpurtx.cs.northwestern.edu/home/tianaoli/Galaxy-Deconv/grid_plot.ipynb#X16sdnNjb2RlLXJlbW90ZQ%3D%3D?line=1'>2</a>\u001b[0m cmap \u001b[39m=\u001b[39m \u001b[39m'\u001b[39m\u001b[39mmagma\u001b[39m\u001b[39m'\u001b[39m\n\u001b[1;32m      <a href='vscode-notebook-cell://ssh-remote%2Bcplgpurtx.cs.northwestern.edu/home/tianaoli/Galaxy-Deconv/grid_plot.ipynb#X16sdnNjb2RlLXJlbW90ZQ%3D%3D?line=2'>3</a>\u001b[0m \u001b[39mfor\u001b[39;00m idx, (gt, obs, snr, rec_fd, rec_RL_20, rec_RL_100, rec_1, rec_8) \u001b[39min\u001b[39;00m \u001b[39menumerate\u001b[39m(\u001b[39mzip\u001b[39m(gt_list, obs_list, snr_list, rec_wiener, rec_RL[\u001b[39m0\u001b[39m], rec_RL[\u001b[39m1\u001b[39m], rec_admm[\u001b[39m0\u001b[39m], rec_admm[\u001b[39m1\u001b[39m])):\n",
      "File \u001b[0;32m~/.conda/envs/astro/lib/python3.8/site-packages/matplotlib/pyplot.py:806\u001b[0m, in \u001b[0;36mfigure\u001b[0;34m(num, figsize, dpi, facecolor, edgecolor, frameon, FigureClass, clear, **kwargs)\u001b[0m\n\u001b[1;32m    797\u001b[0m \u001b[39mif\u001b[39;00m \u001b[39mlen\u001b[39m(allnums) \u001b[39m==\u001b[39m max_open_warning \u001b[39m>\u001b[39m\u001b[39m=\u001b[39m \u001b[39m1\u001b[39m:\n\u001b[1;32m    798\u001b[0m     _api\u001b[39m.\u001b[39mwarn_external(\n\u001b[1;32m    799\u001b[0m         \u001b[39mf\u001b[39m\u001b[39m\"\u001b[39m\u001b[39mMore than \u001b[39m\u001b[39m{\u001b[39;00mmax_open_warning\u001b[39m}\u001b[39;00m\u001b[39m figures have been opened. \u001b[39m\u001b[39m\"\u001b[39m\n\u001b[1;32m    800\u001b[0m         \u001b[39mf\u001b[39m\u001b[39m\"\u001b[39m\u001b[39mFigures created through the pyplot interface \u001b[39m\u001b[39m\"\u001b[39m\n\u001b[0;32m   (...)\u001b[0m\n\u001b[1;32m    803\u001b[0m         \u001b[39mf\u001b[39m\u001b[39m\"\u001b[39m\u001b[39mwarning, see the rcParam `figure.max_open_warning`).\u001b[39m\u001b[39m\"\u001b[39m,\n\u001b[1;32m    804\u001b[0m         \u001b[39mRuntimeWarning\u001b[39;00m)\n\u001b[0;32m--> 806\u001b[0m manager \u001b[39m=\u001b[39m new_figure_manager(\n\u001b[1;32m    807\u001b[0m     num, figsize\u001b[39m=\u001b[39;49mfigsize, dpi\u001b[39m=\u001b[39;49mdpi,\n\u001b[1;32m    808\u001b[0m     facecolor\u001b[39m=\u001b[39;49mfacecolor, edgecolor\u001b[39m=\u001b[39;49medgecolor, frameon\u001b[39m=\u001b[39;49mframeon,\n\u001b[1;32m    809\u001b[0m     FigureClass\u001b[39m=\u001b[39;49mFigureClass, \u001b[39m*\u001b[39;49m\u001b[39m*\u001b[39;49mkwargs)\n\u001b[1;32m    810\u001b[0m fig \u001b[39m=\u001b[39m manager\u001b[39m.\u001b[39mcanvas\u001b[39m.\u001b[39mfigure\n\u001b[1;32m    811\u001b[0m \u001b[39mif\u001b[39;00m fig_label:\n",
      "File \u001b[0;32m~/.conda/envs/astro/lib/python3.8/site-packages/matplotlib/pyplot.py:325\u001b[0m, in \u001b[0;36mnew_figure_manager\u001b[0;34m(*args, **kwargs)\u001b[0m\n\u001b[1;32m    323\u001b[0m \u001b[39m\"\"\"Create a new figure manager instance.\"\"\"\u001b[39;00m\n\u001b[1;32m    324\u001b[0m _warn_if_gui_out_of_main_thread()\n\u001b[0;32m--> 325\u001b[0m \u001b[39mreturn\u001b[39;00m _get_backend_mod()\u001b[39m.\u001b[39;49mnew_figure_manager(\u001b[39m*\u001b[39;49margs, \u001b[39m*\u001b[39;49m\u001b[39m*\u001b[39;49mkwargs)\n",
      "File \u001b[0;32m~/.conda/envs/astro/lib/python3.8/site-packages/matplotlib/backend_bases.py:3493\u001b[0m, in \u001b[0;36m_Backend.new_figure_manager\u001b[0;34m(cls, num, *args, **kwargs)\u001b[0m\n\u001b[1;32m   3491\u001b[0m \u001b[39mfrom\u001b[39;00m \u001b[39mmatplotlib\u001b[39;00m\u001b[39m.\u001b[39;00m\u001b[39mfigure\u001b[39;00m \u001b[39mimport\u001b[39;00m Figure\n\u001b[1;32m   3492\u001b[0m fig_cls \u001b[39m=\u001b[39m kwargs\u001b[39m.\u001b[39mpop(\u001b[39m'\u001b[39m\u001b[39mFigureClass\u001b[39m\u001b[39m'\u001b[39m, Figure)\n\u001b[0;32m-> 3493\u001b[0m fig \u001b[39m=\u001b[39m fig_cls(\u001b[39m*\u001b[39;49margs, \u001b[39m*\u001b[39;49m\u001b[39m*\u001b[39;49mkwargs)\n\u001b[1;32m   3494\u001b[0m \u001b[39mreturn\u001b[39;00m \u001b[39mcls\u001b[39m\u001b[39m.\u001b[39mnew_figure_manager_given_figure(num, fig)\n",
      "File \u001b[0;32m~/.conda/envs/astro/lib/python3.8/site-packages/matplotlib/figure.py:2300\u001b[0m, in \u001b[0;36mFigure.__init__\u001b[0;34m(self, figsize, dpi, facecolor, edgecolor, linewidth, frameon, subplotpars, tight_layout, constrained_layout, layout, **kwargs)\u001b[0m\n\u001b[1;32m   2216\u001b[0m \u001b[39mdef\u001b[39;00m \u001b[39m__init__\u001b[39m(\u001b[39mself\u001b[39m,\n\u001b[1;32m   2217\u001b[0m              figsize\u001b[39m=\u001b[39m\u001b[39mNone\u001b[39;00m,\n\u001b[1;32m   2218\u001b[0m              dpi\u001b[39m=\u001b[39m\u001b[39mNone\u001b[39;00m,\n\u001b[0;32m   (...)\u001b[0m\n\u001b[1;32m   2228\u001b[0m              \u001b[39m*\u001b[39m\u001b[39m*\u001b[39mkwargs\n\u001b[1;32m   2229\u001b[0m              ):\n\u001b[1;32m   2230\u001b[0m     \u001b[39m\"\"\"\u001b[39;00m\n\u001b[1;32m   2231\u001b[0m \u001b[39m    Parameters\u001b[39;00m\n\u001b[1;32m   2232\u001b[0m \u001b[39m    ----------\u001b[39;00m\n\u001b[0;32m   (...)\u001b[0m\n\u001b[1;32m   2298\u001b[0m \u001b[39m        %(Figure:kwdoc)s\u001b[39;00m\n\u001b[1;32m   2299\u001b[0m \u001b[39m    \"\"\"\u001b[39;00m\n\u001b[0;32m-> 2300\u001b[0m     \u001b[39msuper\u001b[39;49m()\u001b[39m.\u001b[39;49m\u001b[39m__init__\u001b[39;49m(\u001b[39m*\u001b[39;49m\u001b[39m*\u001b[39;49mkwargs)\n\u001b[1;32m   2302\u001b[0m     \u001b[39mif\u001b[39;00m layout \u001b[39mis\u001b[39;00m \u001b[39mnot\u001b[39;00m \u001b[39mNone\u001b[39;00m:\n\u001b[1;32m   2303\u001b[0m         \u001b[39mif\u001b[39;00m tight_layout \u001b[39mis\u001b[39;00m \u001b[39mnot\u001b[39;00m \u001b[39mNone\u001b[39;00m:\n",
      "File \u001b[0;32m~/.conda/envs/astro/lib/python3.8/site-packages/matplotlib/figure.py:216\u001b[0m, in \u001b[0;36mFigureBase.__init__\u001b[0;34m(self, **kwargs)\u001b[0m\n\u001b[1;32m    214\u001b[0m \u001b[39mself\u001b[39m\u001b[39m.\u001b[39mstale \u001b[39m=\u001b[39m \u001b[39mTrue\u001b[39;00m\n\u001b[1;32m    215\u001b[0m \u001b[39mself\u001b[39m\u001b[39m.\u001b[39msuppressComposite \u001b[39m=\u001b[39m \u001b[39mNone\u001b[39;00m\n\u001b[0;32m--> 216\u001b[0m \u001b[39mself\u001b[39;49m\u001b[39m.\u001b[39;49mset(\u001b[39m*\u001b[39;49m\u001b[39m*\u001b[39;49mkwargs)\n",
      "File \u001b[0;32m~/.conda/envs/astro/lib/python3.8/site-packages/matplotlib/artist.py:117\u001b[0m, in \u001b[0;36mArtist.__init_subclass__.<locals>.<lambda>\u001b[0;34m(self, **kwargs)\u001b[0m\n\u001b[1;32m    109\u001b[0m \u001b[39mif\u001b[39;00m \u001b[39mnot\u001b[39;00m \u001b[39mhasattr\u001b[39m(\u001b[39mcls\u001b[39m\u001b[39m.\u001b[39mset, \u001b[39m'\u001b[39m\u001b[39m_autogenerated_signature\u001b[39m\u001b[39m'\u001b[39m):\n\u001b[1;32m    110\u001b[0m     \u001b[39m# Don't overwrite cls.set if the subclass or one of its parents\u001b[39;00m\n\u001b[1;32m    111\u001b[0m     \u001b[39m# has defined a set method set itself.\u001b[39;00m\n\u001b[1;32m    112\u001b[0m     \u001b[39m# If there was no explicit definition, cls.set is inherited from\u001b[39;00m\n\u001b[1;32m    113\u001b[0m     \u001b[39m# the hierarchy of auto-generated set methods, which hold the\u001b[39;00m\n\u001b[1;32m    114\u001b[0m     \u001b[39m# flag _autogenerated_signature.\u001b[39;00m\n\u001b[1;32m    115\u001b[0m     \u001b[39mreturn\u001b[39;00m\n\u001b[0;32m--> 117\u001b[0m \u001b[39mcls\u001b[39m\u001b[39m.\u001b[39mset \u001b[39m=\u001b[39m \u001b[39mlambda\u001b[39;00m \u001b[39mself\u001b[39m, \u001b[39m*\u001b[39m\u001b[39m*\u001b[39mkwargs: Artist\u001b[39m.\u001b[39;49mset(\u001b[39mself\u001b[39;49m, \u001b[39m*\u001b[39;49m\u001b[39m*\u001b[39;49mkwargs)\n\u001b[1;32m    118\u001b[0m \u001b[39mcls\u001b[39m\u001b[39m.\u001b[39mset\u001b[39m.\u001b[39m\u001b[39m__name__\u001b[39m \u001b[39m=\u001b[39m \u001b[39m\"\u001b[39m\u001b[39mset\u001b[39m\u001b[39m\"\u001b[39m\n\u001b[1;32m    119\u001b[0m \u001b[39mcls\u001b[39m\u001b[39m.\u001b[39mset\u001b[39m.\u001b[39m\u001b[39m__qualname__\u001b[39m \u001b[39m=\u001b[39m \u001b[39mf\u001b[39m\u001b[39m\"\u001b[39m\u001b[39m{\u001b[39;00m\u001b[39mcls\u001b[39m\u001b[39m.\u001b[39m\u001b[39m__qualname__\u001b[39m\u001b[39m}\u001b[39;00m\u001b[39m.set\u001b[39m\u001b[39m\"\u001b[39m\n",
      "File \u001b[0;32m~/.conda/envs/astro/lib/python3.8/site-packages/matplotlib/artist.py:1167\u001b[0m, in \u001b[0;36mArtist.set\u001b[0;34m(self, **kwargs)\u001b[0m\n\u001b[1;32m   1162\u001b[0m \u001b[39mdef\u001b[39;00m \u001b[39mset\u001b[39m(\u001b[39mself\u001b[39m, \u001b[39m*\u001b[39m\u001b[39m*\u001b[39mkwargs):\n\u001b[1;32m   1163\u001b[0m     \u001b[39m# docstring and signature are auto-generated via\u001b[39;00m\n\u001b[1;32m   1164\u001b[0m     \u001b[39m# Artist._update_set_signature_and_docstring() at the end of the\u001b[39;00m\n\u001b[1;32m   1165\u001b[0m     \u001b[39m# module.\u001b[39;00m\n\u001b[1;32m   1166\u001b[0m     kwargs \u001b[39m=\u001b[39m cbook\u001b[39m.\u001b[39mnormalize_kwargs(kwargs, \u001b[39mself\u001b[39m)\n\u001b[0;32m-> 1167\u001b[0m     \u001b[39mreturn\u001b[39;00m \u001b[39mself\u001b[39;49m\u001b[39m.\u001b[39;49mupdate(kwargs)\n",
      "File \u001b[0;32m~/.conda/envs/astro/lib/python3.8/site-packages/matplotlib/artist.py:1067\u001b[0m, in \u001b[0;36mArtist.update\u001b[0;34m(self, props)\u001b[0m\n\u001b[1;32m   1065\u001b[0m             func \u001b[39m=\u001b[39m \u001b[39mgetattr\u001b[39m(\u001b[39mself\u001b[39m, \u001b[39mf\u001b[39m\u001b[39m\"\u001b[39m\u001b[39mset_\u001b[39m\u001b[39m{\u001b[39;00mk\u001b[39m}\u001b[39;00m\u001b[39m\"\u001b[39m, \u001b[39mNone\u001b[39;00m)\n\u001b[1;32m   1066\u001b[0m             \u001b[39mif\u001b[39;00m \u001b[39mnot\u001b[39;00m callable(func):\n\u001b[0;32m-> 1067\u001b[0m                 \u001b[39mraise\u001b[39;00m \u001b[39mAttributeError\u001b[39;00m(\u001b[39mf\u001b[39m\u001b[39m\"\u001b[39m\u001b[39m{\u001b[39;00m\u001b[39mtype\u001b[39m(\u001b[39mself\u001b[39m)\u001b[39m.\u001b[39m\u001b[39m__name__\u001b[39m\u001b[39m!r}\u001b[39;00m\u001b[39m object \u001b[39m\u001b[39m\"\u001b[39m\n\u001b[1;32m   1068\u001b[0m                                      \u001b[39mf\u001b[39m\u001b[39m\"\u001b[39m\u001b[39mhas no property \u001b[39m\u001b[39m{\u001b[39;00mk\u001b[39m!r}\u001b[39;00m\u001b[39m\"\u001b[39m)\n\u001b[1;32m   1069\u001b[0m             ret\u001b[39m.\u001b[39mappend(func(v))\n\u001b[1;32m   1070\u001b[0m \u001b[39mif\u001b[39;00m ret:\n",
      "\u001b[0;31mAttributeError\u001b[0m: 'Figure' object has no property 'bbox_inches'"
     ]
    }
   ],
   "source": [
    "fig = plt.figure(figsize=(19,14), facecolor='white', bbox_inches='tight')\n",
    "cmap = 'magma'\n",
    "for idx, (gt, obs, snr, rec_fd, rec_RL_20, rec_RL_100, rec_1, rec_8) in enumerate(zip(gt_list, obs_list, snr_list, rec_wiener, rec_RL[0], rec_RL[1], rec_admm[0], rec_admm[1])):\n",
    "    plt.subplot(5,7,7*idx+1)\n",
    "    plt.subplots_adjust(wspace=0.08, hspace=0.2)\n",
    "    plt.imshow(gt, cmap=cmap)\n",
    "    plt.title(\"SNR={:.1f}\".format(snr),y=-0.18,loc='left', fontsize=15)\n",
    "    plt.axis('off')\n",
    "    if idx == 0:\n",
    "        plt.title('Ground truth', fontsize=15)\n",
    "\n",
    "    plt.subplot(5,7,7*idx+2)\n",
    "    plt.subplots_adjust(wspace=0.08, hspace=0.2)\n",
    "    plt.imshow(obs, cmap=cmap)\n",
    "    plt.title(\"PSNR={:.2f}\".format(PSNR(obs,gt)),y=-0.18,loc='left', fontsize=15)\n",
    "    plt.axis('off')\n",
    "    if idx == 0:\n",
    "        plt.title('Observation', fontsize=15)\n",
    "\n",
    "    plt.subplot(5,7,7*idx+3)\n",
    "    plt.subplots_adjust(wspace=0.08, hspace=0.2)\n",
    "    plt.imshow(rec_fd, cmap=cmap)\n",
    "    plt.title(\"PSNR={:.2f}\".format(PSNR(rec_fd,gt)),y=-0.18,loc='left', fontsize=15)\n",
    "    plt.axis('off')\n",
    "    if idx == 0:\n",
    "        plt.title('Wiener', fontsize=15)\n",
    "\n",
    "    plt.subplot(5,7,7*idx+4)\n",
    "    plt.subplots_adjust(wspace=0.08, hspace=0.2)\n",
    "    plt.imshow(rec_RL_20, cmap=cmap)\n",
    "    plt.title(\"PSNR={:.2f}\".format(PSNR(rec_RL_20,gt)),y=-0.18,loc='left', fontsize=15)\n",
    "    plt.axis('off')\n",
    "    if idx == 0:\n",
    "        plt.title('Richard-Lucy (20)', fontsize=15)\n",
    "\n",
    "    plt.subplot(5,7,7*idx+5)\n",
    "    plt.subplots_adjust(wspace=0.08, hspace=0.2)\n",
    "    plt.imshow(rec_RL_100, cmap=cmap)\n",
    "    plt.title(\"PSNR={:.2f}\".format(PSNR(rec_RL_100,gt)),y=-0.18,loc='left', fontsize=15)\n",
    "    plt.axis('off')\n",
    "    if idx == 0:\n",
    "        plt.title('Richard-Lucy (100)', fontsize=15)\n",
    "\n",
    "    plt.subplot(5,7,7*idx+6)\n",
    "    plt.subplots_adjust(wspace=0.08, hspace=0.2)\n",
    "    plt.imshow(rec_1, cmap=cmap)\n",
    "    # plt.title(\"PSNR={:.2f}\".format(PSNR(rec_1,gt)),y=0,loc='left', fontsize=15, color='white')\n",
    "    plt.title(\"$\\Delta g$={:.3f}\".format(abs(estimate_shear(rec_1,psf_delta)[2]-estimate_shear(gt.numpy(),psf_delta)[2])),y=0,loc='left', fontsize=15, color='white')\n",
    "    plt.axis('off')\n",
    "    if idx == 0:\n",
    "        plt.title('Unrolled-ADMM (1)', fontsize=15)\n",
    "\n",
    "    plt.subplot(5,7,7*idx+7)\n",
    "    plt.subplots_adjust(wspace=0.08, hspace=0.2)\n",
    "    plt.imshow(rec_8, cmap=cmap)\n",
    "    plt.title(\"PSNR={:.2f}\".format(PSNR(rec_8,gt)),y=-0.18,loc='left', fontsize=15)\n",
    "    plt.axis('off')\n",
    "    if idx == 0:\n",
    "        plt.title('Unrolled-ADMM (8)', fontsize=15)\n",
    "    divider = make_axes_locatable(plt.gca())\n",
    "    cax = divider.append_axes(\"right\", size=\"5%\", pad=\"3%\")\n",
    "    plt.colorbar(cax=cax)\n",
    "plt.savefig('figures/grid.eps', bbox_inches='tight')"
   ]
  }
 ],
 "metadata": {
  "kernelspec": {
   "display_name": "Python 3.8.13 ('astro')",
   "language": "python",
   "name": "python3"
  },
  "language_info": {
   "codemirror_mode": {
    "name": "ipython",
    "version": 3
   },
   "file_extension": ".py",
   "mimetype": "text/x-python",
   "name": "python",
   "nbconvert_exporter": "python",
   "pygments_lexer": "ipython3",
   "version": "3.8.13"
  },
  "orig_nbformat": 4,
  "vscode": {
   "interpreter": {
    "hash": "baefa36f9901adaf325a313b208b493aec3ce2f722d74c8793620106c5e8f66e"
   }
  }
 },
 "nbformat": 4,
 "nbformat_minor": 2
}
