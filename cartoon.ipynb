{
 "cells": [
  {
   "cell_type": "code",
   "execution_count": 8,
   "metadata": {},
   "outputs": [],
   "source": [
    "import os\n",
    "import numpy as np\n",
    "import matplotlib.pyplot as plt\n",
    "import galsim\n",
    "from dataset import Galaxy_Dataset, get_COSMOS_Galaxy, get_LSST_PSF\n",
    "\n",
    "%matplotlib inline"
   ]
  },
  {
   "cell_type": "code",
   "execution_count": 9,
   "metadata": {},
   "outputs": [],
   "source": [
    "COSMOS_dir = '/mnt/WD6TB/tianaoli/COSMOS_23.5_training_sample/'\n",
    "# COSMOS_dir = '/Users/luke/Downloads/COSMOS_23.5_training_sample'\n",
    "real_galaxy_catalog = galsim.RealGalaxyCatalog(dir=COSMOS_dir, sample=str(23.5))\n",
    "\n",
    "fov_pixels = 14\n",
    "pixel_scale = 0.2\n",
    "gal_max_shear = 0.5\n",
    "seeing = 0.7\n",
    "atmos_max_shear = 0.2"
   ]
  },
  {
   "cell_type": "code",
   "execution_count": 10,
   "metadata": {},
   "outputs": [],
   "source": [
    "random_seed = 45 # randomly choose a seed for the rng\n",
    "rng = galsim.UniformDeviate(seed=random_seed+235) # Initialize the random number generator\n",
    "rng_gaussian = galsim.GaussianDeviate(seed=random_seed-2, mean=seeing, sigma=0.18)\n",
    "atmos_fwhm = 0.45 # arcsec (mean 0.7 for LSST)\n",
    "# while atmos_fwhm < 0.35 or atmos_fwhm > 1.1: # sample fwhm\n",
    "#     atmos_fwhm = rng_gaussian()\n",
    "atmos_e = rng() * atmos_max_shear # ellipticity of atmospheric PSF\n",
    "atmos_beta = 2. * np.pi * rng()     # radians\n",
    "atmos_shear = galsim.Shear(e=atmos_e, beta=atmos_beta * galsim.radians)\n",
    "opt_defocus = 0.3 + 0.4 * rng()     # wavelengths\n",
    "opt_a1 = 2*0.5*(rng() - 0.5)        # wavelengths (-0.29)\n",
    "opt_a2 = 2*0.5*(rng() - 0.5)        # wavelengths (0.12)\n",
    "opt_c1 = 2*1.*(rng() - 0.5)         # wavelengths (0.64)\n",
    "opt_c2 = 2*1.*(rng() - 0.5)         # wavelengths (-0.33)\n",
    "opt_obscuration = 0.165             # linear scale size of secondary mirror obscuration $(3.4/8.36)^2$\n",
    "lam = 700                           # nm    NB: don't use lambda - that's a reserved word.\n",
    "tel_diam = 8.36 # telescope diameter / meters (8.36 for LSST, 6.5 for JWST)"
   ]
  },
  {
   "cell_type": "markdown",
   "metadata": {},
   "source": [
    "## Seeing Error"
   ]
  },
  {
   "cell_type": "code",
   "execution_count": 11,
   "metadata": {},
   "outputs": [],
   "source": [
    "seeing_errs=[0, 0.05, 0.1, 0.15, 0.2, 0.25, 0.3, 0.35, 0.4]\n",
    "noisy_psfs = []\n",
    "\n",
    "for seeing_err in seeing_errs:\n",
    "    delta = seeing_err\n",
    "    noisy_psfs.append(get_LSST_PSF(lam, tel_diam, opt_defocus, opt_c1, opt_c2, opt_a1, opt_a2, opt_obscuration,\n",
    "                                   atmos_fwhm + delta, atmos_e, atmos_beta, 0, 0, \n",
    "                                   fov_pixels, pixel_scale=pixel_scale))"
   ]
  },
  {
   "cell_type": "code",
   "execution_count": 12,
   "metadata": {},
   "outputs": [
    {
     "data": {
      "image/png": "[encoded data removed]",
      "text/plain": [
       "<Figure size 1008x216 with 1 Axes>"
      ]
     },
     "metadata": {
      "needs_background": "light"
     },
     "output_type": "display_data"
    }
   ],
   "source": [
    "img = np.zeros([fov_pixels, fov_pixels*len(seeing_errs)])\n",
    "for idx, psf in enumerate(noisy_psfs):\n",
    "    img[:,fov_pixels*idx:fov_pixels*(idx+1)] = psf\n",
    "    \n",
    "plt.figure(figsize=(14,3))\n",
    "plt.imshow(img, cmap='magma')\n",
    "plt.imsave('figures/cartoon_seeing.png', img, cmap='magma')"
   ]
  },
  {
   "cell_type": "markdown",
   "metadata": {},
   "source": [
    "## Shear Error"
   ]
  },
  {
   "cell_type": "code",
   "execution_count": 13,
   "metadata": {},
   "outputs": [],
   "source": [
    "shear_errs=[0, 0.05, 0.1, 0.15, 0.2, 0.25, 0.3, 0.35, 0.4]\n",
    "noisy_psfs = []\n",
    "\n",
    "for shear_err in shear_errs:\n",
    "    g1_err = shear_err\n",
    "    g2_err = shear_err\n",
    "    noisy_psfs.append(get_LSST_PSF(lam, tel_diam, opt_defocus, opt_c1, opt_c2, opt_a1, opt_a2, opt_obscuration,\n",
    "                                   atmos_fwhm, atmos_e, atmos_beta, g1_err, g2_err,\n",
    "                                   fov_pixels, pixel_scale=pixel_scale))"
   ]
  },
  {
   "cell_type": "code",
   "execution_count": 14,
   "metadata": {},
   "outputs": [
    {
     "data": {
      "image/png": "[encoded data removed]",
      "text/plain": [
       "<Figure size 1008x216 with 1 Axes>"
      ]
     },
     "metadata": {
      "needs_background": "light"
     },
     "output_type": "display_data"
    }
   ],
   "source": [
    "img = np.zeros([fov_pixels, fov_pixels*len(seeing_errs)])\n",
    "for idx, psf in enumerate(noisy_psfs):\n",
    "    img[:,fov_pixels*idx:fov_pixels*(idx+1)] = psf\n",
    "    \n",
    "plt.figure(figsize=(14,3))\n",
    "plt.imshow(img, cmap='magma')\n",
    "plt.imsave('figures/cartoon_shear.png', img, cmap='magma')"
   ]
  }
 ],
 "metadata": {
  "kernelspec": {
   "display_name": "Python 3.8.13 ('astro')",
   "language": "python",
   "name": "python3"
  },
  "language_info": {
   "codemirror_mode": {
    "name": "ipython",
    "version": 3
   },
   "file_extension": ".py",
   "mimetype": "text/x-python",
   "name": "python",
   "nbconvert_exporter": "python",
   "pygments_lexer": "ipython3",
   "version": "3.8.13"
  },
  "orig_nbformat": 4,
  "vscode": {
   "interpreter": {
    "hash": "baefa36f9901adaf325a313b208b493aec3ce2f722d74c8793620106c5e8f66e"
   }
  }
 },
 "nbformat": 4,
 "nbformat_minor": 2
}
