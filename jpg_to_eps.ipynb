{
 "cells": [
  {
   "cell_type": "markdown",
   "metadata": {},
   "source": [
    "## JPEG to EPS\n",
    "This notebook transfers JPEG images to EPS format to meet MNRAS requirements."
   ]
  },
  {
   "cell_type": "code",
   "execution_count": 1,
   "metadata": {},
   "outputs": [],
   "source": [
    "import os\n",
    "import matplotlib.pyplot as plt"
   ]
  },
  {
   "cell_type": "code",
   "execution_count": 7,
   "metadata": {},
   "outputs": [],
   "source": [
    "# Systematic PSF Error Test Figure\n",
    "psf_err_jpg = os.path.join('figures', 'psf_err_cartoon.jpg')\n",
    "psf_err_eps = os.path.join('figures', 'psf_err_cartoon.eps')\n",
    "psf_err_img = plt.imread(psf_err_jpg)\n",
    "plt.imsave(psf_err_eps, psf_err_img)"
   ]
  },
  {
   "cell_type": "code",
   "execution_count": 8,
   "metadata": {},
   "outputs": [],
   "source": [
    "# Pipeline Figure\n",
    "pipeline_jpg = os.path.join('figures', 'pipeline.jpg')\n",
    "pipeline_eps = os.path.join('figures', 'pipeline.jpg')\n",
    "pipeline_img = plt.imread(pipeline_jpg)\n",
    "plt.imsave(pipeline_eps, pipeline_img)"
   ]
  }
 ],
 "metadata": {
  "kernelspec": {
   "display_name": "Python 3.10.6 ('astro')",
   "language": "python",
   "name": "python3"
  },
  "language_info": {
   "codemirror_mode": {
    "name": "ipython",
    "version": 3
   },
   "file_extension": ".py",
   "mimetype": "text/x-python",
   "name": "python",
   "nbconvert_exporter": "python",
   "pygments_lexer": "ipython3",
   "version": "3.10.6"
  },
  "orig_nbformat": 4,
  "vscode": {
   "interpreter": {
    "hash": "d0b802fb624dc315c61dbc46f938e1a108e2fa9619ffc7341ed430915791398d"
   }
  }
 },
 "nbformat": 4,
 "nbformat_minor": 2
}
