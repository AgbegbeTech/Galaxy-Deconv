{
 "cells": [
  {
   "cell_type": "markdown",
   "metadata": {},
   "source": [
    "## JPEG to EPS\n",
    "This notebook transfers JPEG images to EPS format to meet MNRAS requirements."
   ]
  },
  {
   "cell_type": "code",
   "execution_count": 1,
   "metadata": {},
   "outputs": [],
   "source": [
    "import os\n",
    "import matplotlib.pyplot as plt"
   ]
  },
  {
   "cell_type": "code",
   "execution_count": 2,
   "metadata": {},
   "outputs": [],
   "source": [
    "# Systematic PSF Error Test Figure\n",
    "psf_err_jpg = os.path.join('figures', 'psf_err_cartoon.jpg')\n",
    "psf_err_eps = os.path.join('figures', 'psf_err_cartoon.eps')\n",
    "psf_err_img = plt.imread(psf_err_jpg)\n",
    "plt.imsave(psf_err_eps, psf_err_img)"
   ]
  },
  {
   "cell_type": "code",
   "execution_count": 3,
   "metadata": {},
   "outputs": [],
   "source": [
    "# Pipeline Figure\n",
    "pipeline_jpg = os.path.join('figures', 'pipeline.jpg')\n",
    "pipeline_eps = os.path.join('figures', 'pipeline.eps')\n",
    "pipeline_img = plt.imread(pipeline_jpg)\n",
    "plt.imsave(pipeline_eps, pipeline_img)"
   ]
  }
 ],
 "metadata": {
  "kernelspec": {
   "display_name": "Python 3.8.13 ('astro')",
   "language": "python",
   "name": "python3"
  },
  "language_info": {
   "codemirror_mode": {
    "name": "ipython",
    "version": 3
   },
   "file_extension": ".py",
   "mimetype": "text/x-python",
   "name": "python",
   "nbconvert_exporter": "python",
   "pygments_lexer": "ipython3",
   "version": "3.8.13"
  },
  "orig_nbformat": 4,
  "vscode": {
   "interpreter": {
    "hash": "baefa36f9901adaf325a313b208b493aec3ce2f722d74c8793620106c5e8f66e"
   }
  }
 },
 "nbformat": 4,
 "nbformat_minor": 2
}
