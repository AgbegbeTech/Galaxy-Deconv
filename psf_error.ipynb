{
 "cells": [
  {
   "cell_type": "code",
   "execution_count": 1,
   "metadata": {},
   "outputs": [],
   "source": [
    "import os\n",
    "import sys\n",
    "import numpy as np\n",
    "import json\n",
    "import matplotlib.pyplot as plt\n",
    "\n",
    "%matplotlib inline"
   ]
  },
  {
   "cell_type": "code",
   "execution_count": 2,
   "metadata": {},
   "outputs": [],
   "source": [
    "methods = {'No_deconv':'-o', \n",
    "           'FPFS':'-o',\n",
    "           'Richard-Lucy(10)':':^', 'Richard-Lucy(20)':'-.^', \n",
    "           'Richard-Lucy(30)':'-^', 'Richard-Lucy(50)':'--^', \n",
    "         #   'Richard-Lucy(100)',\n",
    "           'Unrolled_ADMM(1)':':^', 'Unrolled_ADMM(2)':'-.^', \n",
    "           'Unrolled_ADMM(4)':'-v', 'Unrolled_ADMM(8)':'--v'}\n",
    "shear_errs=[0.01, 0.03, 0.05, 0.1, 0.15, 0.2, 0.25, 0.3, 0.35, 0.4]\n",
    "seeing_errs=[0.001, 0.002, 0.003, 0.005, 0.01, 0.02, 0.05, 0.1, 0.15, 0.2]"
   ]
  },
  {
   "cell_type": "code",
   "execution_count": 3,
   "metadata": {},
   "outputs": [
    {
     "ename": "KeyError",
     "evalue": "'0.01'",
     "output_type": "error",
     "traceback": [
      "\u001b[0;31m---------------------------------------------------------------------------\u001b[0m",
      "\u001b[0;31mKeyError\u001b[0m                                  Traceback (most recent call last)",
      "\u001b[1;32m/Users/luke/Desktop/Galaxy-Deconv/psf_error.ipynb Cell 3\u001b[0m in \u001b[0;36m<cell line: 4>\u001b[0;34m()\u001b[0m\n\u001b[1;32m     <a href='vscode-notebook-cell:/Users/luke/Desktop/Galaxy-Deconv/psf_error.ipynb#W2sZmlsZQ%3D%3D?line=9'>10</a>\u001b[0m     gt_shear \u001b[39m=\u001b[39m np\u001b[39m.\u001b[39marray(results[\u001b[39m'\u001b[39m\u001b[39mgt_shear\u001b[39m\u001b[39m'\u001b[39m])\n\u001b[1;32m     <a href='vscode-notebook-cell:/Users/luke/Desktop/Galaxy-Deconv/psf_error.ipynb#W2sZmlsZQ%3D%3D?line=11'>12</a>\u001b[0m \u001b[39mfor\u001b[39;00m shear_err \u001b[39min\u001b[39;00m shear_errs:\n\u001b[0;32m---> <a href='vscode-notebook-cell:/Users/luke/Desktop/Galaxy-Deconv/psf_error.ipynb#W2sZmlsZQ%3D%3D?line=12'>13</a>\u001b[0m     rec_err \u001b[39m=\u001b[39m np\u001b[39m.\u001b[39mabs(np\u001b[39m.\u001b[39marray(results[\u001b[39mstr\u001b[39;49m(shear_err)][\u001b[39m'\u001b[39m\u001b[39mrec_shear\u001b[39m\u001b[39m'\u001b[39m]) \u001b[39m-\u001b[39m gt_shear)\n\u001b[1;32m     <a href='vscode-notebook-cell:/Users/luke/Desktop/Galaxy-Deconv/psf_error.ipynb#W2sZmlsZQ%3D%3D?line=13'>14</a>\u001b[0m     g_errs\u001b[39m.\u001b[39mappend(np\u001b[39m.\u001b[39mmean(rec_err[:,\u001b[39m2\u001b[39m]))\n\u001b[1;32m     <a href='vscode-notebook-cell:/Users/luke/Desktop/Galaxy-Deconv/psf_error.ipynb#W2sZmlsZQ%3D%3D?line=14'>15</a>\u001b[0m     g_stds\u001b[39m.\u001b[39mappend(np\u001b[39m.\u001b[39mstd(rec_err[:,\u001b[39m2\u001b[39m]))\n",
      "\u001b[0;31mKeyError\u001b[0m: '0.01'"
     ]
    },
    {
     "data": {
      "text/plain": [
       "<Figure size 864x576 with 0 Axes>"
      ]
     },
     "metadata": {},
     "output_type": "display_data"
    }
   ],
   "source": [
    "fig = plt.figure(figsize=(12,8))\n",
    "\n",
    "shear_err_1, shear_err_2, g_errs, g_stds = [], [], [], []\n",
    "for method in methods:\n",
    "    result_path = os.path.join('results', method)\n",
    "    results_file = os.path.join(result_path, 'results_psf_shear_err.json')\n",
    "    with open(results_file, 'r') as f:\n",
    "        results = json.load(f)\n",
    "    if method == 'No_deconv':\n",
    "        gt_shear = np.array(results['gt_shear'])\n",
    "        \n",
    "    for shear_err in shear_errs:\n",
    "        rec_err = np.abs(np.array(results[str(shear_err)]['rec_shear']) - gt_shear)\n",
    "        g_errs.append(np.mean(rec_err[:,2]))\n",
    "        g_stds.append(np.std(rec_err[:,2]))\n",
    "\n",
    "    color = 'tab:blue' if 'ADMM' in method else ('tab:green' if 'Richard-Lucy' in method else ('tab:orange' if method=='FPFS' else 'tab:red'))\n",
    "    plt.errorbar(shear_errs, g_errs, methods[method], yerr=g_stds, label=method, color=color)\n",
    "\n",
    "plt.xlabel('Shear Error($\\Delta_{g_1}$, $\\Delta_{g_2}$) in PSF', fontsize=12)\n",
    "plt.ylabel('Average shear estimated error', fontsize=12)\n",
    "plt.xlim([-0.01, 0.41])\n",
    "# plt.xscale('log')\n",
    "plt.yscale('log')\n",
    "plt.legend(fontsize=10)\n",
    "plt.show()\n",
    "plt.savefig(os.path.join('figures', 'psf_shear_err.jpg'), bbox_inches='tight')"
   ]
  }
 ],
 "metadata": {
  "kernelspec": {
   "display_name": "Python 3.8.12 ('astro')",
   "language": "python",
   "name": "python3"
  },
  "language_info": {
   "codemirror_mode": {
    "name": "ipython",
    "version": 3
   },
   "file_extension": ".py",
   "mimetype": "text/x-python",
   "name": "python",
   "nbconvert_exporter": "python",
   "pygments_lexer": "ipython3",
   "version": "3.8.12"
  },
  "orig_nbformat": 4,
  "vscode": {
   "interpreter": {
    "hash": "5b961726f24694b6f17f740f2c5030ec25616772daf73a312ff6748a00a3f54b"
   }
  }
 },
 "nbformat": 4,
 "nbformat_minor": 2
}
